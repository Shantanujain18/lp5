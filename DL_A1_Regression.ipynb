{
  "cells": [
    {
      "cell_type": "code",
      "execution_count": null,
      "metadata": {
        "id": "2EwC0XgfyGMX"
      },
      "outputs": [],
      "source": [
        "import pandas as pd\n",
        "import matplotlib.pyplot as plt"
      ]
    },
    {
      "cell_type": "code",
      "execution_count": null,
      "metadata": {
        "colab": {
          "base_uri": "https://localhost:8080/",
          "height": 206
        },
        "id": "P6dxrkMUyGU1",
        "outputId": "729b6d63-d1a6-4314-fcb5-3d8b50384819"
      },
      "outputs": [
        {
          "data": {
            "text/html": [
              "<div>\n",
              "<style scoped>\n",
              "    .dataframe tbody tr th:only-of-type {\n",
              "        vertical-align: middle;\n",
              "    }\n",
              "\n",
              "    .dataframe tbody tr th {\n",
              "        vertical-align: top;\n",
              "    }\n",
              "\n",
              "    .dataframe thead th {\n",
              "        text-align: right;\n",
              "    }\n",
              "</style>\n",
              "<table border=\"1\" class=\"dataframe\">\n",
              "  <thead>\n",
              "    <tr style=\"text-align: right;\">\n",
              "      <th></th>\n",
              "      <th>CRIM</th>\n",
              "      <th>ZN</th>\n",
              "      <th>INDUS</th>\n",
              "      <th>CHAS</th>\n",
              "      <th>NOX</th>\n",
              "      <th>RM</th>\n",
              "      <th>AGE</th>\n",
              "      <th>DIS</th>\n",
              "      <th>RAD</th>\n",
              "      <th>TAX</th>\n",
              "      <th>PTRATIO</th>\n",
              "      <th>B</th>\n",
              "      <th>LSTAT</th>\n",
              "      <th>MEDV</th>\n",
              "    </tr>\n",
              "  </thead>\n",
              "  <tbody>\n",
              "    <tr>\n",
              "      <th>0</th>\n",
              "      <td>0.00632</td>\n",
              "      <td>18.0</td>\n",
              "      <td>2.31</td>\n",
              "      <td>0.0</td>\n",
              "      <td>0.538</td>\n",
              "      <td>6.575</td>\n",
              "      <td>65.2</td>\n",
              "      <td>4.0900</td>\n",
              "      <td>1</td>\n",
              "      <td>296</td>\n",
              "      <td>15.3</td>\n",
              "      <td>396.90</td>\n",
              "      <td>4.98</td>\n",
              "      <td>24.0</td>\n",
              "    </tr>\n",
              "    <tr>\n",
              "      <th>1</th>\n",
              "      <td>0.02731</td>\n",
              "      <td>0.0</td>\n",
              "      <td>7.07</td>\n",
              "      <td>0.0</td>\n",
              "      <td>0.469</td>\n",
              "      <td>6.421</td>\n",
              "      <td>78.9</td>\n",
              "      <td>4.9671</td>\n",
              "      <td>2</td>\n",
              "      <td>242</td>\n",
              "      <td>17.8</td>\n",
              "      <td>396.90</td>\n",
              "      <td>9.14</td>\n",
              "      <td>21.6</td>\n",
              "    </tr>\n",
              "    <tr>\n",
              "      <th>2</th>\n",
              "      <td>0.02729</td>\n",
              "      <td>0.0</td>\n",
              "      <td>7.07</td>\n",
              "      <td>0.0</td>\n",
              "      <td>0.469</td>\n",
              "      <td>7.185</td>\n",
              "      <td>61.1</td>\n",
              "      <td>4.9671</td>\n",
              "      <td>2</td>\n",
              "      <td>242</td>\n",
              "      <td>17.8</td>\n",
              "      <td>392.83</td>\n",
              "      <td>4.03</td>\n",
              "      <td>34.7</td>\n",
              "    </tr>\n",
              "    <tr>\n",
              "      <th>3</th>\n",
              "      <td>0.03237</td>\n",
              "      <td>0.0</td>\n",
              "      <td>2.18</td>\n",
              "      <td>0.0</td>\n",
              "      <td>0.458</td>\n",
              "      <td>6.998</td>\n",
              "      <td>45.8</td>\n",
              "      <td>6.0622</td>\n",
              "      <td>3</td>\n",
              "      <td>222</td>\n",
              "      <td>18.7</td>\n",
              "      <td>394.63</td>\n",
              "      <td>2.94</td>\n",
              "      <td>33.4</td>\n",
              "    </tr>\n",
              "    <tr>\n",
              "      <th>4</th>\n",
              "      <td>0.06905</td>\n",
              "      <td>0.0</td>\n",
              "      <td>2.18</td>\n",
              "      <td>0.0</td>\n",
              "      <td>0.458</td>\n",
              "      <td>7.147</td>\n",
              "      <td>54.2</td>\n",
              "      <td>6.0622</td>\n",
              "      <td>3</td>\n",
              "      <td>222</td>\n",
              "      <td>18.7</td>\n",
              "      <td>396.90</td>\n",
              "      <td>NaN</td>\n",
              "      <td>36.2</td>\n",
              "    </tr>\n",
              "  </tbody>\n",
              "</table>\n",
              "</div>"
            ],
            "text/plain": [
              "      CRIM    ZN  INDUS  CHAS    NOX     RM   AGE     DIS  RAD  TAX  PTRATIO  \\\n",
              "0  0.00632  18.0   2.31   0.0  0.538  6.575  65.2  4.0900    1  296     15.3   \n",
              "1  0.02731   0.0   7.07   0.0  0.469  6.421  78.9  4.9671    2  242     17.8   \n",
              "2  0.02729   0.0   7.07   0.0  0.469  7.185  61.1  4.9671    2  242     17.8   \n",
              "3  0.03237   0.0   2.18   0.0  0.458  6.998  45.8  6.0622    3  222     18.7   \n",
              "4  0.06905   0.0   2.18   0.0  0.458  7.147  54.2  6.0622    3  222     18.7   \n",
              "\n",
              "        B  LSTAT  MEDV  \n",
              "0  396.90   4.98  24.0  \n",
              "1  396.90   9.14  21.6  \n",
              "2  392.83   4.03  34.7  \n",
              "3  394.63   2.94  33.4  \n",
              "4  396.90    NaN  36.2  "
            ]
          },
          "execution_count": 2,
          "metadata": {},
          "output_type": "execute_result"
        }
      ],
      "source": [
        "df=pd.read_csv(\"BostonHousing.csv\")\n",
        "df.head()"
      ]
    },
    {
      "cell_type": "code",
      "execution_count": null,
      "metadata": {
        "colab": {
          "base_uri": "https://localhost:8080/",
          "height": 206
        },
        "id": "u5ByDbbdyGXb",
        "outputId": "a4c27d08-9142-4e28-c46e-3215e76410ec"
      },
      "outputs": [
        {
          "data": {
            "text/html": [
              "<div>\n",
              "<style scoped>\n",
              "    .dataframe tbody tr th:only-of-type {\n",
              "        vertical-align: middle;\n",
              "    }\n",
              "\n",
              "    .dataframe tbody tr th {\n",
              "        vertical-align: top;\n",
              "    }\n",
              "\n",
              "    .dataframe thead th {\n",
              "        text-align: right;\n",
              "    }\n",
              "</style>\n",
              "<table border=\"1\" class=\"dataframe\">\n",
              "  <thead>\n",
              "    <tr style=\"text-align: right;\">\n",
              "      <th></th>\n",
              "      <th>CRIM</th>\n",
              "      <th>ZN</th>\n",
              "      <th>INDUS</th>\n",
              "      <th>CHAS</th>\n",
              "      <th>NOX</th>\n",
              "      <th>RM</th>\n",
              "      <th>AGE</th>\n",
              "      <th>DIS</th>\n",
              "      <th>RAD</th>\n",
              "      <th>TAX</th>\n",
              "      <th>PTRATIO</th>\n",
              "      <th>B</th>\n",
              "      <th>LSTAT</th>\n",
              "      <th>MEDV</th>\n",
              "    </tr>\n",
              "  </thead>\n",
              "  <tbody>\n",
              "    <tr>\n",
              "      <th>63</th>\n",
              "      <td>0.12650</td>\n",
              "      <td>25.0</td>\n",
              "      <td>5.13</td>\n",
              "      <td>0.0</td>\n",
              "      <td>0.453</td>\n",
              "      <td>6.762</td>\n",
              "      <td>43.4</td>\n",
              "      <td>7.9809</td>\n",
              "      <td>8</td>\n",
              "      <td>284</td>\n",
              "      <td>19.7</td>\n",
              "      <td>395.58</td>\n",
              "      <td>9.50</td>\n",
              "      <td>25.0</td>\n",
              "    </tr>\n",
              "    <tr>\n",
              "      <th>224</th>\n",
              "      <td>0.31533</td>\n",
              "      <td>0.0</td>\n",
              "      <td>6.20</td>\n",
              "      <td>0.0</td>\n",
              "      <td>0.504</td>\n",
              "      <td>8.266</td>\n",
              "      <td>78.3</td>\n",
              "      <td>2.8944</td>\n",
              "      <td>8</td>\n",
              "      <td>307</td>\n",
              "      <td>17.4</td>\n",
              "      <td>385.05</td>\n",
              "      <td>4.14</td>\n",
              "      <td>44.8</td>\n",
              "    </tr>\n",
              "    <tr>\n",
              "      <th>251</th>\n",
              "      <td>0.21409</td>\n",
              "      <td>22.0</td>\n",
              "      <td>5.86</td>\n",
              "      <td>0.0</td>\n",
              "      <td>0.431</td>\n",
              "      <td>6.438</td>\n",
              "      <td>8.9</td>\n",
              "      <td>7.3967</td>\n",
              "      <td>7</td>\n",
              "      <td>330</td>\n",
              "      <td>19.1</td>\n",
              "      <td>377.07</td>\n",
              "      <td>3.59</td>\n",
              "      <td>24.8</td>\n",
              "    </tr>\n",
              "    <tr>\n",
              "      <th>112</th>\n",
              "      <td>0.12329</td>\n",
              "      <td>0.0</td>\n",
              "      <td>10.01</td>\n",
              "      <td>0.0</td>\n",
              "      <td>0.547</td>\n",
              "      <td>5.913</td>\n",
              "      <td>92.9</td>\n",
              "      <td>2.3534</td>\n",
              "      <td>6</td>\n",
              "      <td>432</td>\n",
              "      <td>17.8</td>\n",
              "      <td>394.95</td>\n",
              "      <td>16.21</td>\n",
              "      <td>18.8</td>\n",
              "    </tr>\n",
              "    <tr>\n",
              "      <th>373</th>\n",
              "      <td>11.10810</td>\n",
              "      <td>0.0</td>\n",
              "      <td>18.10</td>\n",
              "      <td>0.0</td>\n",
              "      <td>0.668</td>\n",
              "      <td>4.906</td>\n",
              "      <td>100.0</td>\n",
              "      <td>1.1742</td>\n",
              "      <td>24</td>\n",
              "      <td>666</td>\n",
              "      <td>20.2</td>\n",
              "      <td>396.90</td>\n",
              "      <td>34.77</td>\n",
              "      <td>13.8</td>\n",
              "    </tr>\n",
              "  </tbody>\n",
              "</table>\n",
              "</div>"
            ],
            "text/plain": [
              "         CRIM    ZN  INDUS  CHAS    NOX     RM    AGE     DIS  RAD  TAX  \\\n",
              "63    0.12650  25.0   5.13   0.0  0.453  6.762   43.4  7.9809    8  284   \n",
              "224   0.31533   0.0   6.20   0.0  0.504  8.266   78.3  2.8944    8  307   \n",
              "251   0.21409  22.0   5.86   0.0  0.431  6.438    8.9  7.3967    7  330   \n",
              "112   0.12329   0.0  10.01   0.0  0.547  5.913   92.9  2.3534    6  432   \n",
              "373  11.10810   0.0  18.10   0.0  0.668  4.906  100.0  1.1742   24  666   \n",
              "\n",
              "     PTRATIO       B  LSTAT  MEDV  \n",
              "63      19.7  395.58   9.50  25.0  \n",
              "224     17.4  385.05   4.14  44.8  \n",
              "251     19.1  377.07   3.59  24.8  \n",
              "112     17.8  394.95  16.21  18.8  \n",
              "373     20.2  396.90  34.77  13.8  "
            ]
          },
          "execution_count": 3,
          "metadata": {},
          "output_type": "execute_result"
        }
      ],
      "source": [
        "df.sample(5)"
      ]
    },
    {
      "cell_type": "code",
      "execution_count": null,
      "metadata": {
        "colab": {
          "base_uri": "https://localhost:8080/"
        },
        "id": "ebUlVb7cyGZt",
        "outputId": "7c550743-d61f-4500-8ddc-1b9fd58450bd"
      },
      "outputs": [
        {
          "name": "stdout",
          "output_type": "stream",
          "text": [
            "<class 'pandas.core.frame.DataFrame'>\n",
            "RangeIndex: 506 entries, 0 to 505\n",
            "Data columns (total 14 columns):\n",
            " #   Column   Non-Null Count  Dtype  \n",
            "---  ------   --------------  -----  \n",
            " 0   CRIM     486 non-null    float64\n",
            " 1   ZN       486 non-null    float64\n",
            " 2   INDUS    486 non-null    float64\n",
            " 3   CHAS     486 non-null    float64\n",
            " 4   NOX      506 non-null    float64\n",
            " 5   RM       506 non-null    float64\n",
            " 6   AGE      486 non-null    float64\n",
            " 7   DIS      506 non-null    float64\n",
            " 8   RAD      506 non-null    int64  \n",
            " 9   TAX      506 non-null    int64  \n",
            " 10  PTRATIO  506 non-null    float64\n",
            " 11  B        506 non-null    float64\n",
            " 12  LSTAT    486 non-null    float64\n",
            " 13  MEDV     506 non-null    float64\n",
            "dtypes: float64(12), int64(2)\n",
            "memory usage: 55.5 KB\n"
          ]
        }
      ],
      "source": [
        "df.info()"
      ]
    },
    {
      "cell_type": "code",
      "execution_count": null,
      "metadata": {
        "colab": {
          "base_uri": "https://localhost:8080/",
          "height": 300
        },
        "id": "GlEMplLIyGbx",
        "outputId": "b7b06709-e79d-42c8-9f4c-6ec377e87a33"
      },
      "outputs": [
        {
          "data": {
            "text/html": [
              "<div>\n",
              "<style scoped>\n",
              "    .dataframe tbody tr th:only-of-type {\n",
              "        vertical-align: middle;\n",
              "    }\n",
              "\n",
              "    .dataframe tbody tr th {\n",
              "        vertical-align: top;\n",
              "    }\n",
              "\n",
              "    .dataframe thead th {\n",
              "        text-align: right;\n",
              "    }\n",
              "</style>\n",
              "<table border=\"1\" class=\"dataframe\">\n",
              "  <thead>\n",
              "    <tr style=\"text-align: right;\">\n",
              "      <th></th>\n",
              "      <th>CRIM</th>\n",
              "      <th>ZN</th>\n",
              "      <th>INDUS</th>\n",
              "      <th>CHAS</th>\n",
              "      <th>NOX</th>\n",
              "      <th>RM</th>\n",
              "      <th>AGE</th>\n",
              "      <th>DIS</th>\n",
              "      <th>RAD</th>\n",
              "      <th>TAX</th>\n",
              "      <th>PTRATIO</th>\n",
              "      <th>B</th>\n",
              "      <th>LSTAT</th>\n",
              "      <th>MEDV</th>\n",
              "    </tr>\n",
              "  </thead>\n",
              "  <tbody>\n",
              "    <tr>\n",
              "      <th>count</th>\n",
              "      <td>486.000000</td>\n",
              "      <td>486.000000</td>\n",
              "      <td>486.000000</td>\n",
              "      <td>486.000000</td>\n",
              "      <td>506.000000</td>\n",
              "      <td>506.000000</td>\n",
              "      <td>486.000000</td>\n",
              "      <td>506.000000</td>\n",
              "      <td>506.000000</td>\n",
              "      <td>506.000000</td>\n",
              "      <td>506.000000</td>\n",
              "      <td>506.000000</td>\n",
              "      <td>486.000000</td>\n",
              "      <td>506.000000</td>\n",
              "    </tr>\n",
              "    <tr>\n",
              "      <th>mean</th>\n",
              "      <td>3.611874</td>\n",
              "      <td>11.211934</td>\n",
              "      <td>11.083992</td>\n",
              "      <td>0.069959</td>\n",
              "      <td>0.554695</td>\n",
              "      <td>6.284634</td>\n",
              "      <td>68.518519</td>\n",
              "      <td>3.795043</td>\n",
              "      <td>9.549407</td>\n",
              "      <td>408.237154</td>\n",
              "      <td>18.455534</td>\n",
              "      <td>356.674032</td>\n",
              "      <td>12.715432</td>\n",
              "      <td>22.532806</td>\n",
              "    </tr>\n",
              "    <tr>\n",
              "      <th>std</th>\n",
              "      <td>8.720192</td>\n",
              "      <td>23.388876</td>\n",
              "      <td>6.835896</td>\n",
              "      <td>0.255340</td>\n",
              "      <td>0.115878</td>\n",
              "      <td>0.702617</td>\n",
              "      <td>27.999513</td>\n",
              "      <td>2.105710</td>\n",
              "      <td>8.707259</td>\n",
              "      <td>168.537116</td>\n",
              "      <td>2.164946</td>\n",
              "      <td>91.294864</td>\n",
              "      <td>7.155871</td>\n",
              "      <td>9.197104</td>\n",
              "    </tr>\n",
              "    <tr>\n",
              "      <th>min</th>\n",
              "      <td>0.006320</td>\n",
              "      <td>0.000000</td>\n",
              "      <td>0.460000</td>\n",
              "      <td>0.000000</td>\n",
              "      <td>0.385000</td>\n",
              "      <td>3.561000</td>\n",
              "      <td>2.900000</td>\n",
              "      <td>1.129600</td>\n",
              "      <td>1.000000</td>\n",
              "      <td>187.000000</td>\n",
              "      <td>12.600000</td>\n",
              "      <td>0.320000</td>\n",
              "      <td>1.730000</td>\n",
              "      <td>5.000000</td>\n",
              "    </tr>\n",
              "    <tr>\n",
              "      <th>25%</th>\n",
              "      <td>0.081900</td>\n",
              "      <td>0.000000</td>\n",
              "      <td>5.190000</td>\n",
              "      <td>0.000000</td>\n",
              "      <td>0.449000</td>\n",
              "      <td>5.885500</td>\n",
              "      <td>45.175000</td>\n",
              "      <td>2.100175</td>\n",
              "      <td>4.000000</td>\n",
              "      <td>279.000000</td>\n",
              "      <td>17.400000</td>\n",
              "      <td>375.377500</td>\n",
              "      <td>7.125000</td>\n",
              "      <td>17.025000</td>\n",
              "    </tr>\n",
              "    <tr>\n",
              "      <th>50%</th>\n",
              "      <td>0.253715</td>\n",
              "      <td>0.000000</td>\n",
              "      <td>9.690000</td>\n",
              "      <td>0.000000</td>\n",
              "      <td>0.538000</td>\n",
              "      <td>6.208500</td>\n",
              "      <td>76.800000</td>\n",
              "      <td>3.207450</td>\n",
              "      <td>5.000000</td>\n",
              "      <td>330.000000</td>\n",
              "      <td>19.050000</td>\n",
              "      <td>391.440000</td>\n",
              "      <td>11.430000</td>\n",
              "      <td>21.200000</td>\n",
              "    </tr>\n",
              "    <tr>\n",
              "      <th>75%</th>\n",
              "      <td>3.560263</td>\n",
              "      <td>12.500000</td>\n",
              "      <td>18.100000</td>\n",
              "      <td>0.000000</td>\n",
              "      <td>0.624000</td>\n",
              "      <td>6.623500</td>\n",
              "      <td>93.975000</td>\n",
              "      <td>5.188425</td>\n",
              "      <td>24.000000</td>\n",
              "      <td>666.000000</td>\n",
              "      <td>20.200000</td>\n",
              "      <td>396.225000</td>\n",
              "      <td>16.955000</td>\n",
              "      <td>25.000000</td>\n",
              "    </tr>\n",
              "    <tr>\n",
              "      <th>max</th>\n",
              "      <td>88.976200</td>\n",
              "      <td>100.000000</td>\n",
              "      <td>27.740000</td>\n",
              "      <td>1.000000</td>\n",
              "      <td>0.871000</td>\n",
              "      <td>8.780000</td>\n",
              "      <td>100.000000</td>\n",
              "      <td>12.126500</td>\n",
              "      <td>24.000000</td>\n",
              "      <td>711.000000</td>\n",
              "      <td>22.000000</td>\n",
              "      <td>396.900000</td>\n",
              "      <td>37.970000</td>\n",
              "      <td>50.000000</td>\n",
              "    </tr>\n",
              "  </tbody>\n",
              "</table>\n",
              "</div>"
            ],
            "text/plain": [
              "             CRIM          ZN       INDUS        CHAS         NOX          RM  \\\n",
              "count  486.000000  486.000000  486.000000  486.000000  506.000000  506.000000   \n",
              "mean     3.611874   11.211934   11.083992    0.069959    0.554695    6.284634   \n",
              "std      8.720192   23.388876    6.835896    0.255340    0.115878    0.702617   \n",
              "min      0.006320    0.000000    0.460000    0.000000    0.385000    3.561000   \n",
              "25%      0.081900    0.000000    5.190000    0.000000    0.449000    5.885500   \n",
              "50%      0.253715    0.000000    9.690000    0.000000    0.538000    6.208500   \n",
              "75%      3.560263   12.500000   18.100000    0.000000    0.624000    6.623500   \n",
              "max     88.976200  100.000000   27.740000    1.000000    0.871000    8.780000   \n",
              "\n",
              "              AGE         DIS         RAD         TAX     PTRATIO           B  \\\n",
              "count  486.000000  506.000000  506.000000  506.000000  506.000000  506.000000   \n",
              "mean    68.518519    3.795043    9.549407  408.237154   18.455534  356.674032   \n",
              "std     27.999513    2.105710    8.707259  168.537116    2.164946   91.294864   \n",
              "min      2.900000    1.129600    1.000000  187.000000   12.600000    0.320000   \n",
              "25%     45.175000    2.100175    4.000000  279.000000   17.400000  375.377500   \n",
              "50%     76.800000    3.207450    5.000000  330.000000   19.050000  391.440000   \n",
              "75%     93.975000    5.188425   24.000000  666.000000   20.200000  396.225000   \n",
              "max    100.000000   12.126500   24.000000  711.000000   22.000000  396.900000   \n",
              "\n",
              "            LSTAT        MEDV  \n",
              "count  486.000000  506.000000  \n",
              "mean    12.715432   22.532806  \n",
              "std      7.155871    9.197104  \n",
              "min      1.730000    5.000000  \n",
              "25%      7.125000   17.025000  \n",
              "50%     11.430000   21.200000  \n",
              "75%     16.955000   25.000000  \n",
              "max     37.970000   50.000000  "
            ]
          },
          "execution_count": 5,
          "metadata": {},
          "output_type": "execute_result"
        }
      ],
      "source": [
        "df.describe()"
      ]
    },
    {
      "cell_type": "code",
      "execution_count": null,
      "metadata": {
        "colab": {
          "base_uri": "https://localhost:8080/"
        },
        "id": "WM6h2oupyGd_",
        "outputId": "efe2c439-5715-4256-c894-a5d03004c552"
      },
      "outputs": [
        {
          "data": {
            "text/plain": [
              "CRIM       20\n",
              "ZN         20\n",
              "INDUS      20\n",
              "CHAS       20\n",
              "NOX         0\n",
              "RM          0\n",
              "AGE        20\n",
              "DIS         0\n",
              "RAD         0\n",
              "TAX         0\n",
              "PTRATIO     0\n",
              "B           0\n",
              "LSTAT      20\n",
              "MEDV        0\n",
              "dtype: int64"
            ]
          },
          "execution_count": 6,
          "metadata": {},
          "output_type": "execute_result"
        }
      ],
      "source": [
        "df.isnull().sum()"
      ]
    },
    {
      "cell_type": "code",
      "execution_count": null,
      "metadata": {
        "id": "snTlVm4ZyGgQ"
      },
      "outputs": [],
      "source": [
        "missing_val_col=['CRIM','ZN','INDUS','CHAS','AGE','LSTAT']\n",
        "for i in missing_val_col:\n",
        "  df[i].fillna(df[i].median(),inplace=True)"
      ]
    },
    {
      "cell_type": "code",
      "execution_count": null,
      "metadata": {
        "id": "F-yoxdbvyGiV"
      },
      "outputs": [],
      "source": [
        "from sklearn.model_selection import train_test_split"
      ]
    },
    {
      "cell_type": "code",
      "execution_count": null,
      "metadata": {
        "id": "rT9ZKzWuzWLl"
      },
      "outputs": [],
      "source": [
        "X=df.drop('MEDV',axis=1)\n",
        "y=df['MEDV']\n",
        "X_train, X_test, y_train, y_test = train_test_split(X, y, test_size=0.30, random_state=10)"
      ]
    },
    {
      "cell_type": "code",
      "execution_count": null,
      "metadata": {
        "id": "ZCt3IyeZzWOf"
      },
      "outputs": [],
      "source": [
        "from sklearn.preprocessing import StandardScaler"
      ]
    },
    {
      "cell_type": "code",
      "execution_count": null,
      "metadata": {
        "id": "27qOonmwzYgp"
      },
      "outputs": [],
      "source": [
        "scaler=StandardScaler()"
      ]
    },
    {
      "cell_type": "code",
      "execution_count": null,
      "metadata": {
        "id": "t_3sCQNazYmw"
      },
      "outputs": [],
      "source": [
        "X_train=scaler.fit_transform(X_train)\n",
        "X_test=scaler.fit_transform(X_test)"
      ]
    },
    {
      "cell_type": "code",
      "execution_count": null,
      "metadata": {
        "id": "88_yN1IBzYpX"
      },
      "outputs": [],
      "source": [
        "from sklearn.linear_model import LinearRegression"
      ]
    },
    {
      "cell_type": "code",
      "execution_count": null,
      "metadata": {
        "id": "nXwISH2OzgWX"
      },
      "outputs": [],
      "source": [
        "model_linear_regressuion=LinearRegression()"
      ]
    },
    {
      "cell_type": "code",
      "execution_count": null,
      "metadata": {
        "colab": {
          "base_uri": "https://localhost:8080/",
          "height": 74
        },
        "id": "V4V5fcRMzgZC",
        "outputId": "b23f3efb-b53a-4cee-ed79-0321f4d8dd7d"
      },
      "outputs": [
        {
          "data": {
            "text/plain": [
              "LinearRegression()"
            ]
          },
          "execution_count": 17,
          "metadata": {},
          "output_type": "execute_result"
        }
      ],
      "source": [
        "model_linear_regressuion.fit(X_train,y_train)"
      ]
    },
    {
      "cell_type": "code",
      "execution_count": null,
      "metadata": {
        "id": "HJ6ynAfXzgev"
      },
      "outputs": [],
      "source": [
        "predictions_linear=model_linear_regressuion.predict(X_test)"
      ]
    },
    {
      "cell_type": "code",
      "execution_count": null,
      "metadata": {
        "id": "lEW9QA6yznUr"
      },
      "outputs": [],
      "source": [
        "from sklearn.metrics import r2_score,mean_squared_error,mean_absolute_error"
      ]
    },
    {
      "cell_type": "code",
      "execution_count": null,
      "metadata": {
        "colab": {
          "base_uri": "https://localhost:8080/"
        },
        "id": "FgQceNbmzqto",
        "outputId": "7fc893d7-90e5-4a96-d030-0ee7e39b9294"
      },
      "outputs": [
        {
          "name": "stdout",
          "output_type": "stream",
          "text": [
            "The mean squeraed error is 34.99672699517973\n",
            "The mean absolute error is 3.907812055301934\n",
            "The r2_score is 0.641549892833223\n"
          ]
        }
      ],
      "source": [
        "print(f'The mean squeraed error is {mean_squared_error(y_test,predictions_linear)}')\n",
        "print(f'The mean absolute error is {mean_absolute_error(y_test,predictions_linear)}')\n",
        "print(f'The r2_score is {r2_score(y_test,predictions_linear)}')"
      ]
    },
    {
      "cell_type": "markdown",
      "metadata": {
        "id": "J-vE1AeOztwc"
      },
      "source": [
        "##DL"
      ]
    },
    {
      "cell_type": "code",
      "execution_count": null,
      "metadata": {
        "id": "zw_Tm43NzqwA",
        "outputId": "f396c46f-8c52-4068-993e-62ba33521812"
      },
      "outputs": [
        {
          "name": "stderr",
          "output_type": "stream",
          "text": [
            "2023-05-17 09:59:57.901699: I tensorflow/core/platform/cpu_feature_guard.cc:193] This TensorFlow binary is optimized with oneAPI Deep Neural Network Library (oneDNN) to use the following CPU instructions in performance-critical operations:  AVX2 FMA\n",
            "To enable them in other operations, rebuild TensorFlow with the appropriate compiler flags.\n"
          ]
        }
      ],
      "source": [
        "import tensorflow as tf"
      ]
    },
    {
      "cell_type": "code",
      "execution_count": null,
      "metadata": {
        "id": "1TLMhPDwzqya",
        "outputId": "805e7075-2dc6-436a-d0a8-3021b3d8e36f"
      },
      "outputs": [
        {
          "name": "stderr",
          "output_type": "stream",
          "text": [
            "2023-05-17 10:00:05.360298: I tensorflow/core/platform/cpu_feature_guard.cc:193] This TensorFlow binary is optimized with oneAPI Deep Neural Network Library (oneDNN) to use the following CPU instructions in performance-critical operations:  AVX2 FMA\n",
            "To enable them in other operations, rebuild TensorFlow with the appropriate compiler flags.\n"
          ]
        }
      ],
      "source": [
        "model_nn=tf.keras.Sequential()\n",
        "model_nn.add(tf.keras.layers.Dense(16,input_dim=13,activation='relu'))\n",
        "model_nn.add(tf.keras.layers.Dense(8,activation='relu'))\n",
        "model_nn.add(tf.keras.layers.Dense(1,activation='linear'))"
      ]
    },
    {
      "cell_type": "code",
      "execution_count": null,
      "metadata": {
        "id": "U8ugsBhdzq0Z"
      },
      "outputs": [],
      "source": [
        "model_nn.compile(loss='mse',optimizer='adam',metrics=['mse','mae'])"
      ]
    },
    {
      "cell_type": "code",
      "execution_count": null,
      "metadata": {
        "colab": {
          "base_uri": "https://localhost:8080/"
        },
        "id": "sy35jYSmzzdd",
        "outputId": "902b4024-9c3e-4807-db00-091d2348173d"
      },
      "outputs": [
        {
          "name": "stdout",
          "output_type": "stream",
          "text": [
            "Epoch 1/200\n",
            "9/9 [==============================] - 1s 30ms/step - loss: 543.2717 - mse: 543.2717 - mae: 21.6811 - val_loss: 564.5497 - val_mse: 564.5497 - val_mae: 22.3286\n",
            "Epoch 2/200\n",
            "9/9 [==============================] - 0s 6ms/step - loss: 532.6049 - mse: 532.6049 - mae: 21.4396 - val_loss: 555.4435 - val_mse: 555.4435 - val_mae: 22.1215\n",
            "Epoch 3/200\n",
            "9/9 [==============================] - 0s 9ms/step - loss: 521.5516 - mse: 521.5516 - mae: 21.1980 - val_loss: 545.7885 - val_mse: 545.7885 - val_mae: 21.9038\n",
            "Epoch 4/200\n",
            "9/9 [==============================] - 0s 8ms/step - loss: 510.5106 - mse: 510.5106 - mae: 20.9473 - val_loss: 535.0267 - val_mse: 535.0267 - val_mae: 21.6670\n",
            "Epoch 5/200\n",
            "9/9 [==============================] - 0s 8ms/step - loss: 498.4615 - mse: 498.4615 - mae: 20.6795 - val_loss: 523.4373 - val_mse: 523.4373 - val_mae: 21.4146\n",
            "Epoch 6/200\n",
            "9/9 [==============================] - 0s 6ms/step - loss: 485.3236 - mse: 485.3236 - mae: 20.3876 - val_loss: 510.9797 - val_mse: 510.9797 - val_mae: 21.1403\n",
            "Epoch 7/200\n",
            "9/9 [==============================] - 0s 8ms/step - loss: 471.5246 - mse: 471.5246 - mae: 20.0727 - val_loss: 497.3383 - val_mse: 497.3383 - val_mae: 20.8370\n",
            "Epoch 8/200\n",
            "9/9 [==============================] - 0s 6ms/step - loss: 455.8789 - mse: 455.8789 - mae: 19.7203 - val_loss: 482.5475 - val_mse: 482.5475 - val_mae: 20.5001\n",
            "Epoch 9/200\n",
            "9/9 [==============================] - 0s 7ms/step - loss: 439.2046 - mse: 439.2046 - mae: 19.3276 - val_loss: 465.9762 - val_mse: 465.9762 - val_mae: 20.1159\n",
            "Epoch 10/200\n",
            "9/9 [==============================] - 0s 8ms/step - loss: 420.7534 - mse: 420.7534 - mae: 18.8795 - val_loss: 447.3769 - val_mse: 447.3769 - val_mae: 19.6707\n",
            "Epoch 11/200\n",
            "9/9 [==============================] - 0s 7ms/step - loss: 399.8361 - mse: 399.8361 - mae: 18.3660 - val_loss: 426.8603 - val_mse: 426.8603 - val_mae: 19.1624\n",
            "Epoch 12/200\n",
            "9/9 [==============================] - 0s 11ms/step - loss: 377.1756 - mse: 377.1756 - mae: 17.7734 - val_loss: 403.9296 - val_mse: 403.9296 - val_mae: 18.5740\n",
            "Epoch 13/200\n",
            "9/9 [==============================] - 0s 14ms/step - loss: 351.9450 - mse: 351.9450 - mae: 17.0917 - val_loss: 379.3596 - val_mse: 379.3596 - val_mae: 17.9180\n",
            "Epoch 14/200\n",
            "9/9 [==============================] - 0s 6ms/step - loss: 324.2650 - mse: 324.2650 - mae: 16.3277 - val_loss: 353.5586 - val_mse: 353.5586 - val_mae: 17.1968\n",
            "Epoch 15/200\n",
            "9/9 [==============================] - 0s 7ms/step - loss: 295.8378 - mse: 295.8378 - mae: 15.5109 - val_loss: 326.4742 - val_mse: 326.4742 - val_mae: 16.3999\n",
            "Epoch 16/200\n",
            "9/9 [==============================] - 0s 9ms/step - loss: 266.7567 - mse: 266.7567 - mae: 14.6062 - val_loss: 299.2415 - val_mse: 299.2415 - val_mae: 15.5432\n",
            "Epoch 17/200\n",
            "9/9 [==============================] - 0s 9ms/step - loss: 237.6189 - mse: 237.6189 - mae: 13.6369 - val_loss: 272.6329 - val_mse: 272.6329 - val_mae: 14.6405\n",
            "Epoch 18/200\n",
            "9/9 [==============================] - 0s 7ms/step - loss: 210.7329 - mse: 210.7329 - mae: 12.6528 - val_loss: 246.7828 - val_mse: 246.7828 - val_mae: 13.7377\n",
            "Epoch 19/200\n",
            "9/9 [==============================] - 0s 9ms/step - loss: 184.1237 - mse: 184.1237 - mae: 11.6739 - val_loss: 222.9657 - val_mse: 222.9657 - val_mae: 12.8487\n",
            "Epoch 20/200\n",
            "9/9 [==============================] - 0s 8ms/step - loss: 160.1077 - mse: 160.1077 - mae: 10.7357 - val_loss: 201.7138 - val_mse: 201.7138 - val_mae: 12.0069\n",
            "Epoch 21/200\n",
            "9/9 [==============================] - 0s 9ms/step - loss: 139.2575 - mse: 139.2575 - mae: 9.8918 - val_loss: 182.9033 - val_mse: 182.9033 - val_mae: 11.2259\n",
            "Epoch 22/200\n",
            "9/9 [==============================] - 0s 15ms/step - loss: 121.3812 - mse: 121.3812 - mae: 9.1067 - val_loss: 166.9570 - val_mse: 166.9570 - val_mae: 10.5119\n",
            "Epoch 23/200\n",
            "9/9 [==============================] - 0s 14ms/step - loss: 106.5609 - mse: 106.5609 - mae: 8.4398 - val_loss: 153.4061 - val_mse: 153.4061 - val_mae: 9.8353\n",
            "Epoch 24/200\n",
            "9/9 [==============================] - 0s 13ms/step - loss: 94.0747 - mse: 94.0747 - mae: 7.8572 - val_loss: 142.3682 - val_mse: 142.3682 - val_mae: 9.2799\n",
            "Epoch 25/200\n",
            "9/9 [==============================] - 0s 11ms/step - loss: 84.3537 - mse: 84.3537 - mae: 7.3793 - val_loss: 133.2603 - val_mse: 133.2603 - val_mae: 8.8778\n",
            "Epoch 26/200\n",
            "9/9 [==============================] - 0s 16ms/step - loss: 76.4141 - mse: 76.4141 - mae: 6.9625 - val_loss: 125.6484 - val_mse: 125.6484 - val_mae: 8.5502\n",
            "Epoch 27/200\n",
            "9/9 [==============================] - 0s 13ms/step - loss: 70.1821 - mse: 70.1821 - mae: 6.6256 - val_loss: 119.2634 - val_mse: 119.2634 - val_mae: 8.2559\n",
            "Epoch 28/200\n",
            "9/9 [==============================] - 0s 13ms/step - loss: 65.1035 - mse: 65.1035 - mae: 6.3126 - val_loss: 114.0128 - val_mse: 114.0128 - val_mae: 8.0011\n",
            "Epoch 29/200\n",
            "9/9 [==============================] - 0s 10ms/step - loss: 60.6430 - mse: 60.6430 - mae: 6.0554 - val_loss: 109.7888 - val_mse: 109.7888 - val_mae: 7.7786\n",
            "Epoch 30/200\n",
            "9/9 [==============================] - 0s 13ms/step - loss: 57.1490 - mse: 57.1490 - mae: 5.8461 - val_loss: 105.7722 - val_mse: 105.7722 - val_mae: 7.5786\n",
            "Epoch 31/200\n",
            "9/9 [==============================] - 0s 12ms/step - loss: 53.7773 - mse: 53.7773 - mae: 5.6376 - val_loss: 102.4995 - val_mse: 102.4995 - val_mae: 7.4144\n",
            "Epoch 32/200\n",
            "9/9 [==============================] - 0s 11ms/step - loss: 51.1595 - mse: 51.1595 - mae: 5.4728 - val_loss: 99.1117 - val_mse: 99.1117 - val_mae: 7.2587\n",
            "Epoch 33/200\n",
            "9/9 [==============================] - 0s 13ms/step - loss: 48.5151 - mse: 48.5151 - mae: 5.2978 - val_loss: 96.4184 - val_mse: 96.4184 - val_mae: 7.1280\n",
            "Epoch 34/200\n",
            "9/9 [==============================] - 0s 9ms/step - loss: 46.2057 - mse: 46.2057 - mae: 5.1473 - val_loss: 93.8283 - val_mse: 93.8283 - val_mae: 7.0066\n",
            "Epoch 35/200\n",
            "9/9 [==============================] - 0s 11ms/step - loss: 44.0770 - mse: 44.0770 - mae: 5.0021 - val_loss: 91.6532 - val_mse: 91.6532 - val_mae: 6.9012\n",
            "Epoch 36/200\n",
            "9/9 [==============================] - 0s 11ms/step - loss: 42.2127 - mse: 42.2127 - mae: 4.8749 - val_loss: 89.4862 - val_mse: 89.4862 - val_mae: 6.7947\n",
            "Epoch 37/200\n",
            "9/9 [==============================] - 0s 11ms/step - loss: 40.4301 - mse: 40.4301 - mae: 4.7576 - val_loss: 87.4318 - val_mse: 87.4318 - val_mae: 6.6892\n",
            "Epoch 38/200\n",
            "9/9 [==============================] - 0s 11ms/step - loss: 38.8928 - mse: 38.8928 - mae: 4.6587 - val_loss: 85.8748 - val_mse: 85.8748 - val_mae: 6.6038\n",
            "Epoch 39/200\n",
            "9/9 [==============================] - 0s 8ms/step - loss: 37.4243 - mse: 37.4243 - mae: 4.5551 - val_loss: 84.1652 - val_mse: 84.1652 - val_mae: 6.5030\n",
            "Epoch 40/200\n",
            "9/9 [==============================] - 0s 6ms/step - loss: 35.9809 - mse: 35.9809 - mae: 4.4576 - val_loss: 82.4980 - val_mse: 82.4980 - val_mae: 6.4100\n",
            "Epoch 41/200\n",
            "9/9 [==============================] - 0s 6ms/step - loss: 34.7863 - mse: 34.7863 - mae: 4.3730 - val_loss: 80.8028 - val_mse: 80.8028 - val_mae: 6.3145\n",
            "Epoch 42/200\n",
            "9/9 [==============================] - 0s 6ms/step - loss: 33.6400 - mse: 33.6400 - mae: 4.2958 - val_loss: 79.2174 - val_mse: 79.2174 - val_mae: 6.2227\n",
            "Epoch 43/200\n",
            "9/9 [==============================] - 0s 6ms/step - loss: 32.5930 - mse: 32.5930 - mae: 4.2238 - val_loss: 78.0824 - val_mse: 78.0824 - val_mae: 6.1501\n",
            "Epoch 44/200\n",
            "9/9 [==============================] - 0s 6ms/step - loss: 31.5796 - mse: 31.5796 - mae: 4.1499 - val_loss: 76.5372 - val_mse: 76.5372 - val_mae: 6.0780\n",
            "Epoch 45/200\n",
            "9/9 [==============================] - 0s 6ms/step - loss: 30.6117 - mse: 30.6117 - mae: 4.0876 - val_loss: 75.2066 - val_mse: 75.2066 - val_mae: 6.0201\n",
            "Epoch 46/200\n",
            "9/9 [==============================] - 0s 7ms/step - loss: 29.8043 - mse: 29.8043 - mae: 4.0282 - val_loss: 73.7403 - val_mse: 73.7403 - val_mae: 5.9570\n",
            "Epoch 47/200\n",
            "9/9 [==============================] - 0s 6ms/step - loss: 28.9496 - mse: 28.9496 - mae: 3.9633 - val_loss: 72.4962 - val_mse: 72.4962 - val_mae: 5.9001\n",
            "Epoch 48/200\n",
            "9/9 [==============================] - 0s 6ms/step - loss: 28.2452 - mse: 28.2452 - mae: 3.9099 - val_loss: 71.3923 - val_mse: 71.3923 - val_mae: 5.8440\n",
            "Epoch 49/200\n"
          ]
        },
        {
          "name": "stdout",
          "output_type": "stream",
          "text": [
            "9/9 [==============================] - 0s 5ms/step - loss: 27.5663 - mse: 27.5663 - mae: 3.8550 - val_loss: 70.5213 - val_mse: 70.5213 - val_mae: 5.7983\n",
            "Epoch 50/200\n",
            "9/9 [==============================] - 0s 6ms/step - loss: 26.9021 - mse: 26.9021 - mae: 3.8018 - val_loss: 69.2550 - val_mse: 69.2550 - val_mae: 5.7429\n",
            "Epoch 51/200\n",
            "9/9 [==============================] - 0s 5ms/step - loss: 26.3506 - mse: 26.3506 - mae: 3.7571 - val_loss: 68.0870 - val_mse: 68.0870 - val_mae: 5.6894\n",
            "Epoch 52/200\n",
            "9/9 [==============================] - 0s 6ms/step - loss: 25.7380 - mse: 25.7380 - mae: 3.7090 - val_loss: 67.3221 - val_mse: 67.3221 - val_mae: 5.6483\n",
            "Epoch 53/200\n",
            "9/9 [==============================] - 0s 5ms/step - loss: 25.2206 - mse: 25.2206 - mae: 3.6662 - val_loss: 66.1957 - val_mse: 66.1957 - val_mae: 5.5986\n",
            "Epoch 54/200\n",
            "9/9 [==============================] - 0s 5ms/step - loss: 24.7329 - mse: 24.7329 - mae: 3.6295 - val_loss: 65.1822 - val_mse: 65.1822 - val_mae: 5.5455\n",
            "Epoch 55/200\n",
            "9/9 [==============================] - 0s 7ms/step - loss: 24.2424 - mse: 24.2424 - mae: 3.5920 - val_loss: 64.1783 - val_mse: 64.1783 - val_mae: 5.4961\n",
            "Epoch 56/200\n",
            "9/9 [==============================] - 0s 11ms/step - loss: 23.7718 - mse: 23.7718 - mae: 3.5573 - val_loss: 63.4014 - val_mse: 63.4014 - val_mae: 5.4499\n",
            "Epoch 57/200\n",
            "9/9 [==============================] - 0s 13ms/step - loss: 23.3980 - mse: 23.3980 - mae: 3.5265 - val_loss: 62.3117 - val_mse: 62.3117 - val_mae: 5.3956\n",
            "Epoch 58/200\n",
            "9/9 [==============================] - 0s 9ms/step - loss: 22.9593 - mse: 22.9593 - mae: 3.4929 - val_loss: 61.5992 - val_mse: 61.5992 - val_mae: 5.3595\n",
            "Epoch 59/200\n",
            "9/9 [==============================] - 0s 11ms/step - loss: 22.6048 - mse: 22.6048 - mae: 3.4647 - val_loss: 60.5623 - val_mse: 60.5623 - val_mae: 5.3093\n",
            "Epoch 60/200\n",
            "9/9 [==============================] - 0s 8ms/step - loss: 22.2640 - mse: 22.2640 - mae: 3.4329 - val_loss: 60.1018 - val_mse: 60.1018 - val_mae: 5.2819\n",
            "Epoch 61/200\n",
            "9/9 [==============================] - 0s 12ms/step - loss: 21.9321 - mse: 21.9321 - mae: 3.4051 - val_loss: 58.9768 - val_mse: 58.9768 - val_mae: 5.2229\n",
            "Epoch 62/200\n",
            "9/9 [==============================] - 0s 10ms/step - loss: 21.5704 - mse: 21.5704 - mae: 3.3756 - val_loss: 58.0757 - val_mse: 58.0757 - val_mae: 5.1754\n",
            "Epoch 63/200\n",
            "9/9 [==============================] - 0s 12ms/step - loss: 21.2606 - mse: 21.2606 - mae: 3.3508 - val_loss: 57.1443 - val_mse: 57.1443 - val_mae: 5.1319\n",
            "Epoch 64/200\n",
            "9/9 [==============================] - 0s 9ms/step - loss: 20.9427 - mse: 20.9427 - mae: 3.3242 - val_loss: 56.5400 - val_mse: 56.5400 - val_mae: 5.1000\n",
            "Epoch 65/200\n",
            "9/9 [==============================] - 0s 12ms/step - loss: 20.6592 - mse: 20.6592 - mae: 3.3042 - val_loss: 55.8097 - val_mse: 55.8097 - val_mae: 5.0607\n",
            "Epoch 66/200\n",
            "9/9 [==============================] - 0s 11ms/step - loss: 20.4033 - mse: 20.4033 - mae: 3.2838 - val_loss: 54.9126 - val_mse: 54.9126 - val_mae: 5.0167\n",
            "Epoch 67/200\n",
            "9/9 [==============================] - 0s 13ms/step - loss: 20.1432 - mse: 20.1432 - mae: 3.2600 - val_loss: 54.4763 - val_mse: 54.4763 - val_mae: 4.9888\n",
            "Epoch 68/200\n",
            "9/9 [==============================] - 0s 11ms/step - loss: 19.9131 - mse: 19.9131 - mae: 3.2400 - val_loss: 53.7789 - val_mse: 53.7789 - val_mae: 4.9513\n",
            "Epoch 69/200\n",
            "9/9 [==============================] - 0s 11ms/step - loss: 19.6557 - mse: 19.6557 - mae: 3.2165 - val_loss: 53.1107 - val_mse: 53.1107 - val_mae: 4.9185\n",
            "Epoch 70/200\n",
            "9/9 [==============================] - 0s 12ms/step - loss: 19.4220 - mse: 19.4220 - mae: 3.1968 - val_loss: 52.2983 - val_mse: 52.2983 - val_mae: 4.8846\n",
            "Epoch 71/200\n",
            "9/9 [==============================] - 0s 9ms/step - loss: 19.2288 - mse: 19.2288 - mae: 3.1820 - val_loss: 51.4989 - val_mse: 51.4989 - val_mae: 4.8503\n",
            "Epoch 72/200\n",
            "9/9 [==============================] - 0s 12ms/step - loss: 19.0040 - mse: 19.0040 - mae: 3.1613 - val_loss: 51.3662 - val_mse: 51.3662 - val_mae: 4.8344\n",
            "Epoch 73/200\n",
            "9/9 [==============================] - 0s 8ms/step - loss: 18.7810 - mse: 18.7810 - mae: 3.1420 - val_loss: 50.7644 - val_mse: 50.7644 - val_mae: 4.8071\n",
            "Epoch 74/200\n",
            "9/9 [==============================] - 0s 6ms/step - loss: 18.6172 - mse: 18.6172 - mae: 3.1267 - val_loss: 49.8759 - val_mse: 49.8759 - val_mae: 4.7715\n",
            "Epoch 75/200\n",
            "9/9 [==============================] - 0s 6ms/step - loss: 18.4047 - mse: 18.4047 - mae: 3.1120 - val_loss: 49.1840 - val_mse: 49.1840 - val_mae: 4.7361\n",
            "Epoch 76/200\n",
            "9/9 [==============================] - 0s 9ms/step - loss: 18.2181 - mse: 18.2181 - mae: 3.0958 - val_loss: 48.7738 - val_mse: 48.7738 - val_mae: 4.7161\n",
            "Epoch 77/200\n",
            "9/9 [==============================] - 0s 6ms/step - loss: 18.0276 - mse: 18.0276 - mae: 3.0797 - val_loss: 48.2273 - val_mse: 48.2273 - val_mae: 4.6856\n",
            "Epoch 78/200\n",
            "9/9 [==============================] - 0s 8ms/step - loss: 17.8561 - mse: 17.8561 - mae: 3.0644 - val_loss: 47.9682 - val_mse: 47.9682 - val_mae: 4.6682\n",
            "Epoch 79/200\n",
            "9/9 [==============================] - 0s 7ms/step - loss: 17.7150 - mse: 17.7150 - mae: 3.0484 - val_loss: 47.7210 - val_mse: 47.7210 - val_mae: 4.6482\n",
            "Epoch 80/200\n",
            "9/9 [==============================] - 0s 6ms/step - loss: 17.5200 - mse: 17.5200 - mae: 3.0337 - val_loss: 46.9930 - val_mse: 46.9930 - val_mae: 4.6156\n",
            "Epoch 81/200\n",
            "9/9 [==============================] - 0s 6ms/step - loss: 17.3902 - mse: 17.3902 - mae: 3.0237 - val_loss: 46.3785 - val_mse: 46.3785 - val_mae: 4.5911\n",
            "Epoch 82/200\n",
            "9/9 [==============================] - 0s 7ms/step - loss: 17.2406 - mse: 17.2406 - mae: 3.0127 - val_loss: 45.8164 - val_mse: 45.8164 - val_mae: 4.5572\n",
            "Epoch 83/200\n",
            "9/9 [==============================] - 0s 6ms/step - loss: 17.0811 - mse: 17.0811 - mae: 3.0037 - val_loss: 45.2243 - val_mse: 45.2243 - val_mae: 4.5294\n",
            "Epoch 84/200\n",
            "9/9 [==============================] - 0s 8ms/step - loss: 16.9425 - mse: 16.9425 - mae: 2.9927 - val_loss: 44.9587 - val_mse: 44.9587 - val_mae: 4.5098\n",
            "Epoch 85/200\n",
            "9/9 [==============================] - 0s 7ms/step - loss: 16.7972 - mse: 16.7972 - mae: 2.9808 - val_loss: 44.4403 - val_mse: 44.4403 - val_mae: 4.4815\n",
            "Epoch 86/200\n",
            "9/9 [==============================] - 0s 6ms/step - loss: 16.6594 - mse: 16.6594 - mae: 2.9667 - val_loss: 44.2078 - val_mse: 44.2078 - val_mae: 4.4656\n",
            "Epoch 87/200\n",
            "9/9 [==============================] - 0s 7ms/step - loss: 16.5080 - mse: 16.5080 - mae: 2.9529 - val_loss: 43.8647 - val_mse: 43.8647 - val_mae: 4.4442\n",
            "Epoch 88/200\n",
            "9/9 [==============================] - 0s 8ms/step - loss: 16.4175 - mse: 16.4175 - mae: 2.9479 - val_loss: 43.3822 - val_mse: 43.3822 - val_mae: 4.4145\n",
            "Epoch 89/200\n",
            "9/9 [==============================] - 0s 12ms/step - loss: 16.2660 - mse: 16.2660 - mae: 2.9364 - val_loss: 43.0532 - val_mse: 43.0532 - val_mae: 4.3936\n",
            "Epoch 90/200\n",
            "9/9 [==============================] - 0s 13ms/step - loss: 16.1160 - mse: 16.1160 - mae: 2.9221 - val_loss: 42.6404 - val_mse: 42.6404 - val_mae: 4.3771\n",
            "Epoch 91/200\n",
            "9/9 [==============================] - 0s 12ms/step - loss: 15.9950 - mse: 15.9950 - mae: 2.9100 - val_loss: 42.4476 - val_mse: 42.4476 - val_mae: 4.3659\n",
            "Epoch 92/200\n",
            "9/9 [==============================] - 0s 11ms/step - loss: 15.8628 - mse: 15.8628 - mae: 2.8994 - val_loss: 42.1512 - val_mse: 42.1512 - val_mae: 4.3433\n",
            "Epoch 93/200\n",
            "9/9 [==============================] - 0s 11ms/step - loss: 15.7462 - mse: 15.7462 - mae: 2.8869 - val_loss: 41.9385 - val_mse: 41.9385 - val_mae: 4.3278\n",
            "Epoch 94/200\n",
            "9/9 [==============================] - 0s 17ms/step - loss: 15.6530 - mse: 15.6530 - mae: 2.8798 - val_loss: 41.6833 - val_mse: 41.6833 - val_mae: 4.3120\n",
            "Epoch 95/200\n",
            "9/9 [==============================] - 0s 9ms/step - loss: 15.5136 - mse: 15.5136 - mae: 2.8701 - val_loss: 41.0596 - val_mse: 41.0596 - val_mae: 4.2804\n",
            "Epoch 96/200\n",
            "9/9 [==============================] - 0s 5ms/step - loss: 15.3988 - mse: 15.3988 - mae: 2.8612 - val_loss: 40.6355 - val_mse: 40.6355 - val_mae: 4.2532\n",
            "Epoch 97/200\n",
            "9/9 [==============================] - 0s 5ms/step - loss: 15.2876 - mse: 15.2876 - mae: 2.8509 - val_loss: 40.3639 - val_mse: 40.3639 - val_mae: 4.2352\n",
            "Epoch 98/200\n"
          ]
        },
        {
          "name": "stdout",
          "output_type": "stream",
          "text": [
            "9/9 [==============================] - 0s 6ms/step - loss: 15.1757 - mse: 15.1757 - mae: 2.8408 - val_loss: 40.0090 - val_mse: 40.0090 - val_mae: 4.2170\n",
            "Epoch 99/200\n",
            "9/9 [==============================] - 0s 6ms/step - loss: 15.0831 - mse: 15.0831 - mae: 2.8326 - val_loss: 39.7398 - val_mse: 39.7398 - val_mae: 4.1932\n",
            "Epoch 100/200\n",
            "9/9 [==============================] - 0s 7ms/step - loss: 14.9752 - mse: 14.9752 - mae: 2.8221 - val_loss: 39.4784 - val_mse: 39.4784 - val_mae: 4.1757\n",
            "Epoch 101/200\n",
            "9/9 [==============================] - 0s 13ms/step - loss: 14.8408 - mse: 14.8408 - mae: 2.8085 - val_loss: 39.1945 - val_mse: 39.1945 - val_mae: 4.1596\n",
            "Epoch 102/200\n",
            "9/9 [==============================] - 0s 8ms/step - loss: 14.7614 - mse: 14.7614 - mae: 2.7990 - val_loss: 39.0358 - val_mse: 39.0358 - val_mae: 4.1479\n",
            "Epoch 103/200\n",
            "9/9 [==============================] - 0s 7ms/step - loss: 14.6354 - mse: 14.6354 - mae: 2.7871 - val_loss: 38.6620 - val_mse: 38.6620 - val_mae: 4.1208\n",
            "Epoch 104/200\n",
            "9/9 [==============================] - 0s 6ms/step - loss: 14.5349 - mse: 14.5349 - mae: 2.7783 - val_loss: 38.5564 - val_mse: 38.5564 - val_mae: 4.1064\n",
            "Epoch 105/200\n",
            "9/9 [==============================] - 0s 6ms/step - loss: 14.4187 - mse: 14.4187 - mae: 2.7654 - val_loss: 38.3589 - val_mse: 38.3589 - val_mae: 4.0927\n",
            "Epoch 106/200\n",
            "9/9 [==============================] - 0s 6ms/step - loss: 14.3341 - mse: 14.3341 - mae: 2.7550 - val_loss: 37.9889 - val_mse: 37.9889 - val_mae: 4.0644\n",
            "Epoch 107/200\n",
            "9/9 [==============================] - 0s 6ms/step - loss: 14.2246 - mse: 14.2246 - mae: 2.7429 - val_loss: 37.7991 - val_mse: 37.7991 - val_mae: 4.0459\n",
            "Epoch 108/200\n",
            "9/9 [==============================] - 0s 7ms/step - loss: 14.1375 - mse: 14.1375 - mae: 2.7345 - val_loss: 37.3402 - val_mse: 37.3402 - val_mae: 4.0193\n",
            "Epoch 109/200\n",
            "9/9 [==============================] - 0s 13ms/step - loss: 14.0148 - mse: 14.0148 - mae: 2.7238 - val_loss: 37.1321 - val_mse: 37.1321 - val_mae: 4.0027\n",
            "Epoch 110/200\n",
            "9/9 [==============================] - 0s 9ms/step - loss: 13.9347 - mse: 13.9347 - mae: 2.7124 - val_loss: 37.0792 - val_mse: 37.0792 - val_mae: 3.9917\n",
            "Epoch 111/200\n",
            "9/9 [==============================] - 0s 7ms/step - loss: 13.8187 - mse: 13.8187 - mae: 2.6986 - val_loss: 36.9749 - val_mse: 36.9749 - val_mae: 3.9815\n",
            "Epoch 112/200\n",
            "9/9 [==============================] - 0s 6ms/step - loss: 13.7208 - mse: 13.7208 - mae: 2.6887 - val_loss: 36.6754 - val_mse: 36.6754 - val_mae: 3.9601\n",
            "Epoch 113/200\n",
            "9/9 [==============================] - 0s 6ms/step - loss: 13.6533 - mse: 13.6533 - mae: 2.6789 - val_loss: 36.2784 - val_mse: 36.2784 - val_mae: 3.9364\n",
            "Epoch 114/200\n",
            "9/9 [==============================] - 0s 7ms/step - loss: 13.5649 - mse: 13.5649 - mae: 2.6746 - val_loss: 35.7783 - val_mse: 35.7783 - val_mae: 3.9076\n",
            "Epoch 115/200\n",
            "9/9 [==============================] - 0s 8ms/step - loss: 13.4736 - mse: 13.4736 - mae: 2.6674 - val_loss: 35.5350 - val_mse: 35.5350 - val_mae: 3.8923\n",
            "Epoch 116/200\n",
            "9/9 [==============================] - 0s 8ms/step - loss: 13.3668 - mse: 13.3668 - mae: 2.6543 - val_loss: 35.5000 - val_mse: 35.5000 - val_mae: 3.8852\n",
            "Epoch 117/200\n",
            "9/9 [==============================] - 0s 13ms/step - loss: 13.2895 - mse: 13.2895 - mae: 2.6451 - val_loss: 35.2768 - val_mse: 35.2768 - val_mae: 3.8705\n",
            "Epoch 118/200\n",
            "9/9 [==============================] - 0s 9ms/step - loss: 13.1927 - mse: 13.1927 - mae: 2.6347 - val_loss: 35.2784 - val_mse: 35.2784 - val_mae: 3.8651\n",
            "Epoch 119/200\n",
            "9/9 [==============================] - 0s 13ms/step - loss: 13.1103 - mse: 13.1103 - mae: 2.6225 - val_loss: 35.1673 - val_mse: 35.1673 - val_mae: 3.8536\n",
            "Epoch 120/200\n",
            "9/9 [==============================] - 0s 8ms/step - loss: 13.0679 - mse: 13.0679 - mae: 2.6171 - val_loss: 34.8134 - val_mse: 34.8134 - val_mae: 3.8355\n",
            "Epoch 121/200\n",
            "9/9 [==============================] - 0s 7ms/step - loss: 12.9573 - mse: 12.9573 - mae: 2.6060 - val_loss: 34.6401 - val_mse: 34.6401 - val_mae: 3.8213\n",
            "Epoch 122/200\n",
            "9/9 [==============================] - 0s 6ms/step - loss: 12.9134 - mse: 12.9134 - mae: 2.6032 - val_loss: 34.4092 - val_mse: 34.4092 - val_mae: 3.7978\n",
            "Epoch 123/200\n",
            "9/9 [==============================] - 0s 6ms/step - loss: 12.7993 - mse: 12.7993 - mae: 2.5873 - val_loss: 34.4768 - val_mse: 34.4768 - val_mae: 3.8016\n",
            "Epoch 124/200\n",
            "9/9 [==============================] - 0s 7ms/step - loss: 12.7137 - mse: 12.7137 - mae: 2.5776 - val_loss: 34.1794 - val_mse: 34.1794 - val_mae: 3.7773\n",
            "Epoch 125/200\n",
            "9/9 [==============================] - 0s 8ms/step - loss: 12.6410 - mse: 12.6410 - mae: 2.5699 - val_loss: 33.7502 - val_mse: 33.7502 - val_mae: 3.7510\n",
            "Epoch 126/200\n",
            "9/9 [==============================] - 0s 10ms/step - loss: 12.5481 - mse: 12.5481 - mae: 2.5628 - val_loss: 33.6686 - val_mse: 33.6686 - val_mae: 3.7413\n",
            "Epoch 127/200\n",
            "9/9 [==============================] - 0s 7ms/step - loss: 12.4677 - mse: 12.4677 - mae: 2.5524 - val_loss: 33.5105 - val_mse: 33.5105 - val_mae: 3.7234\n",
            "Epoch 128/200\n",
            "9/9 [==============================] - 0s 6ms/step - loss: 12.3970 - mse: 12.3970 - mae: 2.5449 - val_loss: 33.2348 - val_mse: 33.2348 - val_mae: 3.7058\n",
            "Epoch 129/200\n",
            "9/9 [==============================] - 0s 7ms/step - loss: 12.3157 - mse: 12.3157 - mae: 2.5346 - val_loss: 33.0891 - val_mse: 33.0891 - val_mae: 3.6900\n",
            "Epoch 130/200\n",
            "9/9 [==============================] - 0s 6ms/step - loss: 12.2386 - mse: 12.2386 - mae: 2.5275 - val_loss: 33.0977 - val_mse: 33.0977 - val_mae: 3.6842\n",
            "Epoch 131/200\n",
            "9/9 [==============================] - 0s 6ms/step - loss: 12.1443 - mse: 12.1443 - mae: 2.5162 - val_loss: 32.9422 - val_mse: 32.9422 - val_mae: 3.6739\n",
            "Epoch 132/200\n",
            "9/9 [==============================] - 0s 7ms/step - loss: 12.0818 - mse: 12.0818 - mae: 2.5104 - val_loss: 32.6574 - val_mse: 32.6574 - val_mae: 3.6523\n",
            "Epoch 133/200\n",
            "9/9 [==============================] - 0s 7ms/step - loss: 12.0150 - mse: 12.0150 - mae: 2.5059 - val_loss: 32.5151 - val_mse: 32.5151 - val_mae: 3.6365\n",
            "Epoch 134/200\n",
            "9/9 [==============================] - 0s 7ms/step - loss: 11.9380 - mse: 11.9380 - mae: 2.4960 - val_loss: 32.5271 - val_mse: 32.5271 - val_mae: 3.6359\n",
            "Epoch 135/200\n",
            "9/9 [==============================] - 0s 8ms/step - loss: 11.8596 - mse: 11.8596 - mae: 2.4871 - val_loss: 32.1751 - val_mse: 32.1751 - val_mae: 3.6098\n",
            "Epoch 136/200\n",
            "9/9 [==============================] - 0s 7ms/step - loss: 11.7994 - mse: 11.7994 - mae: 2.4804 - val_loss: 32.1447 - val_mse: 32.1447 - val_mae: 3.6015\n",
            "Epoch 137/200\n",
            "9/9 [==============================] - 0s 8ms/step - loss: 11.7177 - mse: 11.7177 - mae: 2.4718 - val_loss: 31.9196 - val_mse: 31.9196 - val_mae: 3.5854\n",
            "Epoch 138/200\n",
            "9/9 [==============================] - 0s 7ms/step - loss: 11.6653 - mse: 11.6653 - mae: 2.4673 - val_loss: 31.5917 - val_mse: 31.5917 - val_mae: 3.5613\n",
            "Epoch 139/200\n",
            "9/9 [==============================] - 0s 10ms/step - loss: 11.5950 - mse: 11.5950 - mae: 2.4590 - val_loss: 31.2622 - val_mse: 31.2622 - val_mae: 3.5356\n",
            "Epoch 140/200\n",
            "9/9 [==============================] - 0s 8ms/step - loss: 11.5283 - mse: 11.5283 - mae: 2.4540 - val_loss: 31.1646 - val_mse: 31.1646 - val_mae: 3.5279\n",
            "Epoch 141/200\n",
            "9/9 [==============================] - 0s 6ms/step - loss: 11.4456 - mse: 11.4456 - mae: 2.4463 - val_loss: 31.2135 - val_mse: 31.2135 - val_mae: 3.5264\n",
            "Epoch 142/200\n",
            "9/9 [==============================] - 0s 6ms/step - loss: 11.4076 - mse: 11.4076 - mae: 2.4408 - val_loss: 31.1400 - val_mse: 31.1400 - val_mae: 3.5193\n",
            "Epoch 143/200\n",
            "9/9 [==============================] - 0s 7ms/step - loss: 11.3204 - mse: 11.3204 - mae: 2.4300 - val_loss: 31.0672 - val_mse: 31.0672 - val_mae: 3.5094\n",
            "Epoch 144/200\n",
            "9/9 [==============================] - 0s 6ms/step - loss: 11.2698 - mse: 11.2698 - mae: 2.4258 - val_loss: 30.8188 - val_mse: 30.8188 - val_mae: 3.4907\n",
            "Epoch 145/200\n",
            "9/9 [==============================] - 0s 6ms/step - loss: 11.1942 - mse: 11.1942 - mae: 2.4188 - val_loss: 30.8195 - val_mse: 30.8195 - val_mae: 3.4865\n",
            "Epoch 146/200\n",
            "9/9 [==============================] - 0s 7ms/step - loss: 11.1311 - mse: 11.1311 - mae: 2.4109 - val_loss: 30.7079 - val_mse: 30.7079 - val_mae: 3.4741\n",
            "Epoch 147/200\n"
          ]
        },
        {
          "name": "stdout",
          "output_type": "stream",
          "text": [
            "9/9 [==============================] - 0s 6ms/step - loss: 11.0628 - mse: 11.0628 - mae: 2.4051 - val_loss: 30.4222 - val_mse: 30.4222 - val_mae: 3.4564\n",
            "Epoch 148/200\n",
            "9/9 [==============================] - 0s 7ms/step - loss: 10.9954 - mse: 10.9954 - mae: 2.3986 - val_loss: 30.1349 - val_mse: 30.1349 - val_mae: 3.4359\n",
            "Epoch 149/200\n",
            "9/9 [==============================] - 0s 6ms/step - loss: 10.9354 - mse: 10.9354 - mae: 2.3929 - val_loss: 29.9324 - val_mse: 29.9324 - val_mae: 3.4189\n",
            "Epoch 150/200\n",
            "9/9 [==============================] - 0s 6ms/step - loss: 10.8803 - mse: 10.8803 - mae: 2.3872 - val_loss: 29.9305 - val_mse: 29.9305 - val_mae: 3.4137\n",
            "Epoch 151/200\n",
            "9/9 [==============================] - 0s 7ms/step - loss: 10.8164 - mse: 10.8164 - mae: 2.3787 - val_loss: 29.6348 - val_mse: 29.6348 - val_mae: 3.3979\n",
            "Epoch 152/200\n",
            "9/9 [==============================] - 0s 6ms/step - loss: 10.7440 - mse: 10.7440 - mae: 2.3710 - val_loss: 29.6591 - val_mse: 29.6591 - val_mae: 3.3963\n",
            "Epoch 153/200\n",
            "9/9 [==============================] - 0s 6ms/step - loss: 10.6916 - mse: 10.6916 - mae: 2.3631 - val_loss: 29.8661 - val_mse: 29.8661 - val_mae: 3.4014\n",
            "Epoch 154/200\n",
            "9/9 [==============================] - 0s 6ms/step - loss: 10.6279 - mse: 10.6279 - mae: 2.3579 - val_loss: 29.7343 - val_mse: 29.7343 - val_mae: 3.3906\n",
            "Epoch 155/200\n",
            "9/9 [==============================] - 0s 7ms/step - loss: 10.5623 - mse: 10.5623 - mae: 2.3519 - val_loss: 29.2841 - val_mse: 29.2841 - val_mae: 3.3652\n",
            "Epoch 156/200\n",
            "9/9 [==============================] - 0s 6ms/step - loss: 10.5343 - mse: 10.5343 - mae: 2.3480 - val_loss: 28.9766 - val_mse: 28.9766 - val_mae: 3.3423\n",
            "Epoch 157/200\n",
            "9/9 [==============================] - 0s 7ms/step - loss: 10.4534 - mse: 10.4534 - mae: 2.3390 - val_loss: 28.9805 - val_mse: 28.9805 - val_mae: 3.3380\n",
            "Epoch 158/200\n",
            "9/9 [==============================] - 0s 7ms/step - loss: 10.3945 - mse: 10.3945 - mae: 2.3322 - val_loss: 28.9429 - val_mse: 28.9429 - val_mae: 3.3317\n",
            "Epoch 159/200\n",
            "9/9 [==============================] - 0s 6ms/step - loss: 10.3358 - mse: 10.3358 - mae: 2.3247 - val_loss: 29.0768 - val_mse: 29.0768 - val_mae: 3.3333\n",
            "Epoch 160/200\n",
            "9/9 [==============================] - 0s 7ms/step - loss: 10.2983 - mse: 10.2983 - mae: 2.3221 - val_loss: 28.9922 - val_mse: 28.9922 - val_mae: 3.3306\n",
            "Epoch 161/200\n",
            "9/9 [==============================] - 0s 6ms/step - loss: 10.2365 - mse: 10.2365 - mae: 2.3151 - val_loss: 28.8595 - val_mse: 28.8595 - val_mae: 3.3243\n",
            "Epoch 162/200\n",
            "9/9 [==============================] - 0s 6ms/step - loss: 10.1944 - mse: 10.1944 - mae: 2.3093 - val_loss: 28.5787 - val_mse: 28.5787 - val_mae: 3.2997\n",
            "Epoch 163/200\n",
            "9/9 [==============================] - 0s 7ms/step - loss: 10.1196 - mse: 10.1196 - mae: 2.3043 - val_loss: 28.5805 - val_mse: 28.5805 - val_mae: 3.3008\n",
            "Epoch 164/200\n",
            "9/9 [==============================] - 0s 6ms/step - loss: 10.0794 - mse: 10.0794 - mae: 2.2975 - val_loss: 28.4441 - val_mse: 28.4441 - val_mae: 3.2936\n",
            "Epoch 165/200\n",
            "9/9 [==============================] - 0s 7ms/step - loss: 10.0285 - mse: 10.0285 - mae: 2.2920 - val_loss: 28.4891 - val_mse: 28.4891 - val_mae: 3.2943\n",
            "Epoch 166/200\n",
            "9/9 [==============================] - 0s 7ms/step - loss: 9.9580 - mse: 9.9580 - mae: 2.2844 - val_loss: 28.4850 - val_mse: 28.4850 - val_mae: 3.2915\n",
            "Epoch 167/200\n",
            "9/9 [==============================] - 0s 6ms/step - loss: 9.9108 - mse: 9.9108 - mae: 2.2790 - val_loss: 28.2322 - val_mse: 28.2322 - val_mae: 3.2781\n",
            "Epoch 168/200\n",
            "9/9 [==============================] - 0s 7ms/step - loss: 9.8654 - mse: 9.8654 - mae: 2.2754 - val_loss: 28.2589 - val_mse: 28.2589 - val_mae: 3.2775\n",
            "Epoch 169/200\n",
            "9/9 [==============================] - 0s 6ms/step - loss: 9.8229 - mse: 9.8229 - mae: 2.2685 - val_loss: 28.0739 - val_mse: 28.0739 - val_mae: 3.2749\n",
            "Epoch 170/200\n",
            "9/9 [==============================] - 0s 6ms/step - loss: 9.7677 - mse: 9.7677 - mae: 2.2648 - val_loss: 27.9022 - val_mse: 27.9022 - val_mae: 3.2630\n",
            "Epoch 171/200\n",
            "9/9 [==============================] - 0s 6ms/step - loss: 9.7155 - mse: 9.7155 - mae: 2.2586 - val_loss: 27.9945 - val_mse: 27.9945 - val_mae: 3.2633\n",
            "Epoch 172/200\n",
            "9/9 [==============================] - 0s 7ms/step - loss: 9.6856 - mse: 9.6856 - mae: 2.2547 - val_loss: 27.9171 - val_mse: 27.9171 - val_mae: 3.2552\n",
            "Epoch 173/200\n",
            "9/9 [==============================] - 0s 6ms/step - loss: 9.6297 - mse: 9.6297 - mae: 2.2504 - val_loss: 27.5659 - val_mse: 27.5659 - val_mae: 3.2364\n",
            "Epoch 174/200\n",
            "9/9 [==============================] - 0s 7ms/step - loss: 9.5788 - mse: 9.5788 - mae: 2.2430 - val_loss: 27.5768 - val_mse: 27.5768 - val_mae: 3.2399\n",
            "Epoch 175/200\n",
            "9/9 [==============================] - 0s 7ms/step - loss: 9.5539 - mse: 9.5539 - mae: 2.2392 - val_loss: 27.4500 - val_mse: 27.4500 - val_mae: 3.2323\n",
            "Epoch 176/200\n",
            "9/9 [==============================] - 0s 7ms/step - loss: 9.5019 - mse: 9.5019 - mae: 2.2316 - val_loss: 27.5602 - val_mse: 27.5602 - val_mae: 3.2319\n",
            "Epoch 177/200\n",
            "9/9 [==============================] - 0s 6ms/step - loss: 9.4549 - mse: 9.4549 - mae: 2.2284 - val_loss: 27.6049 - val_mse: 27.6049 - val_mae: 3.2337\n",
            "Epoch 178/200\n",
            "9/9 [==============================] - 0s 7ms/step - loss: 9.4351 - mse: 9.4351 - mae: 2.2248 - val_loss: 27.3166 - val_mse: 27.3166 - val_mae: 3.2181\n",
            "Epoch 179/200\n",
            "9/9 [==============================] - 0s 6ms/step - loss: 9.3901 - mse: 9.3901 - mae: 2.2152 - val_loss: 27.0163 - val_mse: 27.0163 - val_mae: 3.2032\n",
            "Epoch 180/200\n",
            "9/9 [==============================] - 0s 7ms/step - loss: 9.3322 - mse: 9.3322 - mae: 2.2088 - val_loss: 27.1690 - val_mse: 27.1690 - val_mae: 3.2114\n",
            "Epoch 181/200\n",
            "9/9 [==============================] - 0s 6ms/step - loss: 9.3157 - mse: 9.3157 - mae: 2.2081 - val_loss: 27.2208 - val_mse: 27.2208 - val_mae: 3.2113\n",
            "Epoch 182/200\n",
            "9/9 [==============================] - 0s 6ms/step - loss: 9.2594 - mse: 9.2594 - mae: 2.2016 - val_loss: 27.1864 - val_mse: 27.1864 - val_mae: 3.2109\n",
            "Epoch 183/200\n",
            "9/9 [==============================] - 0s 7ms/step - loss: 9.2246 - mse: 9.2246 - mae: 2.1970 - val_loss: 27.1372 - val_mse: 27.1372 - val_mae: 3.2085\n",
            "Epoch 184/200\n",
            "9/9 [==============================] - 0s 7ms/step - loss: 9.2172 - mse: 9.2172 - mae: 2.1941 - val_loss: 26.9459 - val_mse: 26.9459 - val_mae: 3.2026\n",
            "Epoch 185/200\n",
            "9/9 [==============================] - 0s 9ms/step - loss: 9.1586 - mse: 9.1586 - mae: 2.1853 - val_loss: 26.8543 - val_mse: 26.8543 - val_mae: 3.1996\n",
            "Epoch 186/200\n",
            "9/9 [==============================] - 0s 8ms/step - loss: 9.1248 - mse: 9.1248 - mae: 2.1815 - val_loss: 26.8687 - val_mse: 26.8687 - val_mae: 3.1974\n",
            "Epoch 187/200\n",
            "9/9 [==============================] - 0s 8ms/step - loss: 9.0898 - mse: 9.0898 - mae: 2.1774 - val_loss: 26.7648 - val_mse: 26.7648 - val_mae: 3.1939\n",
            "Epoch 188/200\n",
            "9/9 [==============================] - 0s 8ms/step - loss: 9.0549 - mse: 9.0549 - mae: 2.1733 - val_loss: 26.6008 - val_mse: 26.6008 - val_mae: 3.1884\n",
            "Epoch 189/200\n",
            "9/9 [==============================] - 0s 8ms/step - loss: 9.0243 - mse: 9.0243 - mae: 2.1683 - val_loss: 26.5574 - val_mse: 26.5574 - val_mae: 3.1890\n",
            "Epoch 190/200\n",
            "9/9 [==============================] - 0s 8ms/step - loss: 8.9781 - mse: 8.9781 - mae: 2.1623 - val_loss: 26.6366 - val_mse: 26.6366 - val_mae: 3.1923\n",
            "Epoch 191/200\n",
            "9/9 [==============================] - 0s 8ms/step - loss: 8.9547 - mse: 8.9547 - mae: 2.1591 - val_loss: 26.5421 - val_mse: 26.5421 - val_mae: 3.1850\n",
            "Epoch 192/200\n",
            "9/9 [==============================] - 0s 8ms/step - loss: 8.9286 - mse: 8.9286 - mae: 2.1563 - val_loss: 26.3783 - val_mse: 26.3783 - val_mae: 3.1793\n",
            "Epoch 193/200\n",
            "9/9 [==============================] - 0s 8ms/step - loss: 8.9008 - mse: 8.9008 - mae: 2.1523 - val_loss: 26.1578 - val_mse: 26.1578 - val_mae: 3.1699\n",
            "Epoch 194/200\n",
            "9/9 [==============================] - 0s 7ms/step - loss: 8.8546 - mse: 8.8546 - mae: 2.1464 - val_loss: 26.4157 - val_mse: 26.4157 - val_mae: 3.1821\n",
            "Epoch 195/200\n",
            "9/9 [==============================] - 0s 8ms/step - loss: 8.8502 - mse: 8.8502 - mae: 2.1439 - val_loss: 26.5492 - val_mse: 26.5492 - val_mae: 3.1856\n",
            "Epoch 196/200\n"
          ]
        },
        {
          "name": "stdout",
          "output_type": "stream",
          "text": [
            "9/9 [==============================] - 0s 8ms/step - loss: 8.8015 - mse: 8.8015 - mae: 2.1383 - val_loss: 26.2823 - val_mse: 26.2823 - val_mae: 3.1734\n",
            "Epoch 197/200\n",
            "9/9 [==============================] - 0s 8ms/step - loss: 8.7892 - mse: 8.7892 - mae: 2.1364 - val_loss: 26.0711 - val_mse: 26.0711 - val_mae: 3.1633\n",
            "Epoch 198/200\n",
            "9/9 [==============================] - 0s 7ms/step - loss: 8.7584 - mse: 8.7584 - mae: 2.1316 - val_loss: 26.1818 - val_mse: 26.1818 - val_mae: 3.1693\n",
            "Epoch 199/200\n",
            "9/9 [==============================] - 0s 8ms/step - loss: 8.7307 - mse: 8.7307 - mae: 2.1289 - val_loss: 26.1428 - val_mse: 26.1428 - val_mae: 3.1673\n",
            "Epoch 200/200\n",
            "9/9 [==============================] - 0s 8ms/step - loss: 8.7016 - mse: 8.7016 - mae: 2.1260 - val_loss: 26.2427 - val_mse: 26.2427 - val_mae: 3.1714\n"
          ]
        }
      ],
      "source": [
        "train_history = model_nn.fit(X_train, y_train, epochs=200, validation_split=0.2)"
      ]
    },
    {
      "cell_type": "code",
      "execution_count": null,
      "metadata": {
        "colab": {
          "base_uri": "https://localhost:8080/",
          "height": 448
        },
        "id": "JFESnZo5zzhz",
        "outputId": "1235d758-4793-4bfd-aaee-9845f07cec60"
      },
      "outputs": [
        {
          "data": {
            "text/plain": [
              "<matplotlib.legend.Legend at 0x7f9605b084f0>"
            ]
          },
          "execution_count": 25,
          "metadata": {},
          "output_type": "execute_result"
        },
        {
          "data": {
            "image/png": "[encoded data removed]",
            "text/plain": [
              "<Figure size 432x288 with 1 Axes>"
            ]
          },
          "metadata": {
            "needs_background": "light"
          },
          "output_type": "display_data"
        }
      ],
      "source": [
        "history_df = pd.DataFrame(train_history.history)\n",
        "plt.plot(history_df['loss'], label='loss')\n",
        "plt.plot(history_df['val_loss'], label='val_loss')\n",
        "plt.legend()"
      ]
    },
    {
      "cell_type": "code",
      "execution_count": null,
      "metadata": {
        "colab": {
          "base_uri": "https://localhost:8080/"
        },
        "id": "oB8bEWxCz52J",
        "outputId": "7e63bba8-599d-43e5-85be-9043d13a36ed"
      },
      "outputs": [
        {
          "name": "stdout",
          "output_type": "stream",
          "text": [
            "2/2 [==============================] - 0s 6ms/step - loss: 24.0149 - mse: 24.0149 - mae: 3.4989\n"
          ]
        },
        {
          "data": {
            "text/plain": [
              "[24.014917373657227, 24.014917373657227, 3.4989070892333984]"
            ]
          },
          "execution_count": 26,
          "metadata": {},
          "output_type": "execute_result"
        }
      ],
      "source": [
        "model_nn.evaluate(X_test, y_test, batch_size=128)"
      ]
    },
    {
      "cell_type": "code",
      "execution_count": null,
      "metadata": {
        "colab": {
          "base_uri": "https://localhost:8080/",
          "height": 508
        },
        "id": "erkSOfdrz55B",
        "outputId": "b97fb22f-086d-4bbf-fcb3-245deb146849"
      },
      "outputs": [
        {
          "name": "stdout",
          "output_type": "stream",
          "text": [
            "5/5 [==============================] - 0s 2ms/step\n"
          ]
        },
        {
          "data": {
            "text/plain": [
              "[<matplotlib.lines.Line2D at 0x7f9605b8ae20>]"
            ]
          },
          "execution_count": 27,
          "metadata": {},
          "output_type": "execute_result"
        },
        {
          "data": {
            "image/png": "[encoded data removed]",
            "text/plain": [
              "<Figure size 432x288 with 1 Axes>"
            ]
          },
          "metadata": {
            "needs_background": "light"
          },
          "output_type": "display_data"
        }
      ],
      "source": [
        "y_pred = model_nn.predict(X_test).flatten()\n",
        "a = plt.axes(aspect='equal')\n",
        "plt.scatter(y_test, y_pred)\n",
        "plt.xlabel('True values')\n",
        "plt.ylabel('Predicted values')\n",
        "plt.title('A plot that shows the true and predicted values')\n",
        "plt.xlim([0, 60])\n",
        "plt.ylim([0, 60])\n",
        "plt.plot([0, 60], [0, 60])"
      ]
    },
    {
      "cell_type": "code",
      "execution_count": null,
      "metadata": {
        "id": "_PVN9w3J1T4p"
      },
      "outputs": [],
      "source": []
    }
  ],
  "metadata": {
    "colab": {
      "provenance": []
    },
    "kernelspec": {
      "display_name": "Python 3 (ipykernel)",
      "language": "python",
      "name": "python3"
    },
    "language_info": {
      "codemirror_mode": {
        "name": "ipython",
        "version": 3
      },
      "file_extension": ".py",
      "mimetype": "text/x-python",
      "name": "python",
      "nbconvert_exporter": "python",
      "pygments_lexer": "ipython3",
      "version": "3.9.7"
    }
  },
  "nbformat": 4,
  "nbformat_minor": 0
}