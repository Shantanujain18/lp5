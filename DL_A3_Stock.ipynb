{
  "cells": [
    {
      "cell_type": "markdown",
      "id": "334fa6f9",
      "metadata": {
        "id": "334fa6f9",
        "papermill": {
          "duration": 0.003877,
          "end_time": "2023-04-14T07:25:46.036010",
          "exception": false,
          "start_time": "2023-04-14T07:25:46.032133",
          "status": "completed"
        },
        "tags": []
      },
      "source": [
        "<a id=\"1\"></a>\n",
        "# Importing Data"
      ]
    },
    {
      "cell_type": "code",
      "execution_count": null,
      "id": "aa26b92c",
      "metadata": {
        "execution": {
          "iopub.execute_input": "2023-04-14T07:25:46.005340Z",
          "iopub.status.busy": "2023-04-14T07:25:46.004930Z",
          "iopub.status.idle": "2023-04-14T07:25:46.025363Z",
          "shell.execute_reply": "2023-04-14T07:25:46.024131Z"
        },
        "id": "aa26b92c",
        "papermill": {
          "duration": 0.028134,
          "end_time": "2023-04-14T07:25:46.027914",
          "exception": false,
          "start_time": "2023-04-14T07:25:45.999780",
          "status": "completed"
        },
        "tags": []
      },
      "outputs": [],
      "source": [
        "import numpy as np\n",
        "import pandas as pd\n",
        "import matplotlib.pyplot as plt"
      ]
    },
    {
      "cell_type": "code",
      "execution_count": null,
      "id": "aa1dd54b",
      "metadata": {
        "colab": {
          "base_uri": "https://localhost:8080/",
          "height": 206
        },
        "execution": {
          "iopub.execute_input": "2023-04-14T07:25:46.045908Z",
          "iopub.status.busy": "2023-04-14T07:25:46.045270Z",
          "iopub.status.idle": "2023-04-14T07:25:46.084881Z",
          "shell.execute_reply": "2023-04-14T07:25:46.083757Z"
        },
        "id": "aa1dd54b",
        "outputId": "9e6d9a11-7051-42be-958d-a110e0e21c6c",
        "papermill": {
          "duration": 0.047478,
          "end_time": "2023-04-14T07:25:46.087323",
          "exception": false,
          "start_time": "2023-04-14T07:25:46.039845",
          "status": "completed"
        },
        "tags": []
      },
      "outputs": [
        {
          "data": {
            "text/html": [
              "<div>\n",
              "<style scoped>\n",
              "    .dataframe tbody tr th:only-of-type {\n",
              "        vertical-align: middle;\n",
              "    }\n",
              "\n",
              "    .dataframe tbody tr th {\n",
              "        vertical-align: top;\n",
              "    }\n",
              "\n",
              "    .dataframe thead th {\n",
              "        text-align: right;\n",
              "    }\n",
              "</style>\n",
              "<table border=\"1\" class=\"dataframe\">\n",
              "  <thead>\n",
              "    <tr style=\"text-align: right;\">\n",
              "      <th></th>\n",
              "      <th>Date</th>\n",
              "      <th>Open</th>\n",
              "      <th>High</th>\n",
              "      <th>Low</th>\n",
              "      <th>Close</th>\n",
              "      <th>Volume</th>\n",
              "    </tr>\n",
              "  </thead>\n",
              "  <tbody>\n",
              "    <tr>\n",
              "      <th>0</th>\n",
              "      <td>1/3/2012</td>\n",
              "      <td>325.25</td>\n",
              "      <td>332.83</td>\n",
              "      <td>324.97</td>\n",
              "      <td>663.59</td>\n",
              "      <td>7,380,500</td>\n",
              "    </tr>\n",
              "    <tr>\n",
              "      <th>1</th>\n",
              "      <td>1/4/2012</td>\n",
              "      <td>331.27</td>\n",
              "      <td>333.87</td>\n",
              "      <td>329.08</td>\n",
              "      <td>666.45</td>\n",
              "      <td>5,749,400</td>\n",
              "    </tr>\n",
              "    <tr>\n",
              "      <th>2</th>\n",
              "      <td>1/5/2012</td>\n",
              "      <td>329.83</td>\n",
              "      <td>330.75</td>\n",
              "      <td>326.89</td>\n",
              "      <td>657.21</td>\n",
              "      <td>6,590,300</td>\n",
              "    </tr>\n",
              "    <tr>\n",
              "      <th>3</th>\n",
              "      <td>1/6/2012</td>\n",
              "      <td>328.34</td>\n",
              "      <td>328.77</td>\n",
              "      <td>323.68</td>\n",
              "      <td>648.24</td>\n",
              "      <td>5,405,900</td>\n",
              "    </tr>\n",
              "    <tr>\n",
              "      <th>4</th>\n",
              "      <td>1/9/2012</td>\n",
              "      <td>322.04</td>\n",
              "      <td>322.29</td>\n",
              "      <td>309.46</td>\n",
              "      <td>620.76</td>\n",
              "      <td>11,688,800</td>\n",
              "    </tr>\n",
              "  </tbody>\n",
              "</table>\n",
              "</div>"
            ],
            "text/plain": [
              "       Date    Open    High     Low   Close      Volume\n",
              "0  1/3/2012  325.25  332.83  324.97  663.59   7,380,500\n",
              "1  1/4/2012  331.27  333.87  329.08  666.45   5,749,400\n",
              "2  1/5/2012  329.83  330.75  326.89  657.21   6,590,300\n",
              "3  1/6/2012  328.34  328.77  323.68  648.24   5,405,900\n",
              "4  1/9/2012  322.04  322.29  309.46  620.76  11,688,800"
            ]
          },
          "execution_count": 2,
          "metadata": {},
          "output_type": "execute_result"
        }
      ],
      "source": [
        "# importing the training set\n",
        "data_train = pd.read_csv(\"Google_Stock_Price_Train.csv\")\n",
        "data_train.head()"
      ]
    },
    {
      "cell_type": "code",
      "execution_count": null,
      "id": "0861e689",
      "metadata": {
        "colab": {
          "base_uri": "https://localhost:8080/"
        },
        "execution": {
          "iopub.execute_input": "2023-04-14T07:25:46.098028Z",
          "iopub.status.busy": "2023-04-14T07:25:46.097296Z",
          "iopub.status.idle": "2023-04-14T07:25:46.105522Z",
          "shell.execute_reply": "2023-04-14T07:25:46.104330Z"
        },
        "id": "0861e689",
        "outputId": "86a2c76f-cb25-41ab-cf0e-984b1695be15",
        "papermill": {
          "duration": 0.016176,
          "end_time": "2023-04-14T07:25:46.108083",
          "exception": false,
          "start_time": "2023-04-14T07:25:46.091907",
          "status": "completed"
        },
        "tags": []
      },
      "outputs": [
        {
          "name": "stdout",
          "output_type": "stream",
          "text": [
            "[[325.25]\n",
            " [331.27]\n",
            " [329.83]\n",
            " ...\n",
            " [793.7 ]\n",
            " [783.33]\n",
            " [782.75]]\n"
          ]
        }
      ],
      "source": [
        "train = data_train.loc[:,[\"Open\"]].values\n",
        "print(train)"
      ]
    },
    {
      "cell_type": "code",
      "execution_count": null,
      "id": "4f69ea16",
      "metadata": {
        "colab": {
          "base_uri": "https://localhost:8080/"
        },
        "execution": {
          "iopub.execute_input": "2023-04-14T07:25:46.118695Z",
          "iopub.status.busy": "2023-04-14T07:25:46.118358Z",
          "iopub.status.idle": "2023-04-14T07:25:47.012324Z",
          "shell.execute_reply": "2023-04-14T07:25:47.010892Z"
        },
        "id": "4f69ea16",
        "outputId": "2b9e3411-12f8-4aaf-f9c8-d7bd2ec7ed99",
        "papermill": {
          "duration": 0.90232,
          "end_time": "2023-04-14T07:25:47.014926",
          "exception": false,
          "start_time": "2023-04-14T07:25:46.112606",
          "status": "completed"
        },
        "tags": []
      },
      "outputs": [
        {
          "name": "stdout",
          "output_type": "stream",
          "text": [
            "[[0.08581368]\n",
            " [0.09701243]\n",
            " [0.09433366]\n",
            " ...\n",
            " [0.95725128]\n",
            " [0.93796041]\n",
            " [0.93688146]]\n"
          ]
        }
      ],
      "source": [
        "# Feature Scaling \n",
        "from sklearn.preprocessing import MinMaxScaler\n",
        "scaler = MinMaxScaler(feature_range=(0,1))\n",
        "\n",
        "train_scaled = scaler.fit_transform(train)\n",
        "print(train_scaled)"
      ]
    },
    {
      "cell_type": "code",
      "execution_count": null,
      "id": "a8911a41",
      "metadata": {
        "execution": {
          "iopub.execute_input": "2023-04-14T07:25:47.025860Z",
          "iopub.status.busy": "2023-04-14T07:25:47.025479Z",
          "iopub.status.idle": "2023-04-14T07:25:47.033665Z",
          "shell.execute_reply": "2023-04-14T07:25:47.032479Z"
        },
        "id": "a8911a41",
        "papermill": {
          "duration": 0.01645,
          "end_time": "2023-04-14T07:25:47.035890",
          "exception": false,
          "start_time": "2023-04-14T07:25:47.019440",
          "status": "completed"
        },
        "tags": []
      },
      "outputs": [],
      "source": [
        "# create a data structure with 50 timesteps and 1 output\n",
        "x_train = []\n",
        "y_train = []\n",
        "timesteps = 5\n",
        "\n",
        "for i in range(timesteps, 1258):\n",
        "    x_train.append(train_scaled[i - timesteps:i, 0])\n",
        "    y_train.append(train_scaled[i, 0])\n",
        "x_train, y_train = np.array(x_train), np.array(y_train)"
      ]
    },
    {
      "cell_type": "code",
      "execution_count": null,
      "id": "ab50f20d",
      "metadata": {
        "colab": {
          "base_uri": "https://localhost:8080/"
        },
        "execution": {
          "iopub.execute_input": "2023-04-14T07:25:47.046466Z",
          "iopub.status.busy": "2023-04-14T07:25:47.046051Z",
          "iopub.status.idle": "2023-04-14T07:25:47.053240Z",
          "shell.execute_reply": "2023-04-14T07:25:47.051951Z"
        },
        "id": "ab50f20d",
        "outputId": "669b6797-5bda-4bb7-c12a-3bee145f58a5",
        "papermill": {
          "duration": 0.015202,
          "end_time": "2023-04-14T07:25:47.055679",
          "exception": false,
          "start_time": "2023-04-14T07:25:47.040477",
          "status": "completed"
        },
        "tags": []
      },
      "outputs": [
        {
          "name": "stdout",
          "output_type": "stream",
          "text": [
            "[[[0.08581368]\n",
            "  [0.09701243]\n",
            "  [0.09433366]\n",
            "  [0.09156187]\n",
            "  [0.07984225]]\n",
            "\n",
            " [[0.09701243]\n",
            "  [0.09433366]\n",
            "  [0.09156187]\n",
            "  [0.07984225]\n",
            "  [0.0643277 ]]\n",
            "\n",
            " [[0.09433366]\n",
            "  [0.09156187]\n",
            "  [0.07984225]\n",
            "  [0.0643277 ]\n",
            "  [0.0585423 ]]\n",
            "\n",
            " ...\n",
            "\n",
            " [[0.96294367]\n",
            "  [0.96123223]\n",
            "  [0.95475854]\n",
            "  [0.95204256]\n",
            "  [0.95163331]]\n",
            "\n",
            " [[0.96123223]\n",
            "  [0.95475854]\n",
            "  [0.95204256]\n",
            "  [0.95163331]\n",
            "  [0.95725128]]\n",
            "\n",
            " [[0.95475854]\n",
            "  [0.95204256]\n",
            "  [0.95163331]\n",
            "  [0.95725128]\n",
            "  [0.93796041]]]\n",
            "[0.0643277  0.0585423  0.06568569 ... 0.95725128 0.93796041 0.93688146]\n"
          ]
        }
      ],
      "source": [
        "# Reshaping\n",
        "\n",
        "x_train = np.reshape(x_train, (x_train.shape[0], x_train.shape[1], 1))\n",
        "print(x_train)\n",
        "print(y_train)"
      ]
    },
    {
      "cell_type": "markdown",
      "id": "fb41263d",
      "metadata": {
        "id": "fb41263d",
        "papermill": {
          "duration": 0.004394,
          "end_time": "2023-04-14T07:25:47.064874",
          "exception": false,
          "start_time": "2023-04-14T07:25:47.060480",
          "status": "completed"
        },
        "tags": []
      },
      "source": [
        "<a id=\"2\"></a>\n",
        "# Create RNN Model"
      ]
    },
    {
      "cell_type": "code",
      "execution_count": null,
      "id": "be6c8905",
      "metadata": {
        "colab": {
          "base_uri": "https://localhost:8080/"
        },
        "execution": {
          "iopub.execute_input": "2023-04-14T07:25:47.076099Z",
          "iopub.status.busy": "2023-04-14T07:25:47.075385Z",
          "iopub.status.idle": "2023-04-14T07:35:28.577615Z",
          "shell.execute_reply": "2023-04-14T07:35:28.576697Z"
        },
        "id": "be6c8905",
        "outputId": "122e13cd-4b72-47fb-dc36-8987ab766fdb",
        "papermill": {
          "duration": 581.510332,
          "end_time": "2023-04-14T07:35:28.579678",
          "exception": false,
          "start_time": "2023-04-14T07:25:47.069346",
          "status": "completed"
        },
        "scrolled": true,
        "tags": []
      },
      "outputs": [
        {
          "name": "stderr",
          "output_type": "stream",
          "text": [
            "2023-05-17 10:43:53.673893: I tensorflow/core/platform/cpu_feature_guard.cc:193] This TensorFlow binary is optimized with oneAPI Deep Neural Network Library (oneDNN) to use the following CPU instructions in performance-critical operations:  AVX2 FMA\n",
            "To enable them in other operations, rebuild TensorFlow with the appropriate compiler flags.\n",
            "2023-05-17 10:43:59.642384: I tensorflow/core/platform/cpu_feature_guard.cc:193] This TensorFlow binary is optimized with oneAPI Deep Neural Network Library (oneDNN) to use the following CPU instructions in performance-critical operations:  AVX2 FMA\n",
            "To enable them in other operations, rebuild TensorFlow with the appropriate compiler flags.\n"
          ]
        },
        {
          "name": "stdout",
          "output_type": "stream",
          "text": [
            "Epoch 1/100\n",
            "1253/1253 [==============================] - 8s 4ms/step - loss: 0.0027\n",
            "Epoch 2/100\n",
            "1253/1253 [==============================] - 6s 4ms/step - loss: 0.0014\n",
            "Epoch 3/100\n",
            "1253/1253 [==============================] - 6s 5ms/step - loss: 0.0014\n",
            "Epoch 4/100\n",
            "1253/1253 [==============================] - 6s 5ms/step - loss: 0.0013\n",
            "Epoch 5/100\n",
            "1253/1253 [==============================] - 6s 5ms/step - loss: 8.3597e-04\n",
            "Epoch 6/100\n",
            "1253/1253 [==============================] - 6s 5ms/step - loss: 9.1380e-04\n",
            "Epoch 7/100\n",
            "1253/1253 [==============================] - 6s 5ms/step - loss: 9.9316e-04\n",
            "Epoch 8/100\n",
            "1253/1253 [==============================] - 6s 5ms/step - loss: 7.8209e-04\n",
            "Epoch 9/100\n",
            "1253/1253 [==============================] - 7s 5ms/step - loss: 7.5230e-04\n",
            "Epoch 10/100\n",
            "1253/1253 [==============================] - 8s 6ms/step - loss: 6.5817e-04\n",
            "Epoch 11/100\n",
            "1253/1253 [==============================] - 6s 5ms/step - loss: 6.7978e-04\n",
            "Epoch 12/100\n",
            "1253/1253 [==============================] - 9s 7ms/step - loss: 6.4512e-04\n",
            "Epoch 13/100\n",
            "1253/1253 [==============================] - 9s 7ms/step - loss: 5.6389e-04\n",
            "Epoch 14/100\n",
            "1253/1253 [==============================] - 7s 6ms/step - loss: 6.2549e-04\n",
            "Epoch 15/100\n",
            "1253/1253 [==============================] - 7s 6ms/step - loss: 5.6719e-04\n",
            "Epoch 16/100\n",
            "1253/1253 [==============================] - 11s 8ms/step - loss: 5.4972e-04\n",
            "Epoch 17/100\n",
            "1253/1253 [==============================] - 9s 7ms/step - loss: 4.7390e-04\n",
            "Epoch 18/100\n",
            "1253/1253 [==============================] - 7s 5ms/step - loss: 5.4871e-04\n",
            "Epoch 19/100\n",
            "1253/1253 [==============================] - 7s 6ms/step - loss: 5.2226e-04\n",
            "Epoch 20/100\n",
            "1253/1253 [==============================] - 8s 7ms/step - loss: 5.7630e-04\n",
            "Epoch 21/100\n",
            "1253/1253 [==============================] - 10s 8ms/step - loss: 4.5978e-04\n",
            "Epoch 22/100\n",
            "1253/1253 [==============================] - 8s 6ms/step - loss: 4.4111e-04\n",
            "Epoch 23/100\n",
            "1253/1253 [==============================] - 7s 6ms/step - loss: 4.6444e-04\n",
            "Epoch 24/100\n",
            "1253/1253 [==============================] - 9s 7ms/step - loss: 5.1561e-04\n",
            "Epoch 25/100\n",
            "1253/1253 [==============================] - 6s 5ms/step - loss: 4.8871e-04\n",
            "Epoch 26/100\n",
            "1253/1253 [==============================] - 12s 9ms/step - loss: 4.5544e-04\n",
            "Epoch 27/100\n",
            "1253/1253 [==============================] - 11s 9ms/step - loss: 4.0416e-04\n",
            "Epoch 28/100\n",
            "1253/1253 [==============================] - 10s 8ms/step - loss: 4.2794e-04\n",
            "Epoch 29/100\n",
            "1253/1253 [==============================] - 16s 13ms/step - loss: 4.7146e-04\n",
            "Epoch 30/100\n",
            "1253/1253 [==============================] - 13s 11ms/step - loss: 4.0988e-04\n",
            "Epoch 31/100\n",
            "1253/1253 [==============================] - 15s 12ms/step - loss: 4.1376e-04\n",
            "Epoch 32/100\n",
            "1253/1253 [==============================] - 20s 16ms/step - loss: 4.6329e-04\n",
            "Epoch 33/100\n",
            "1253/1253 [==============================] - 28s 22ms/step - loss: 4.4785e-04\n",
            "Epoch 34/100\n",
            "1253/1253 [==============================] - 20s 16ms/step - loss: 4.3538e-04\n",
            "Epoch 35/100\n",
            "1253/1253 [==============================] - 19s 15ms/step - loss: 3.8763e-04\n",
            "Epoch 36/100\n",
            "1253/1253 [==============================] - 15s 12ms/step - loss: 4.0307e-04\n",
            "Epoch 37/100\n",
            "1253/1253 [==============================] - 10s 8ms/step - loss: 5.0001e-04\n",
            "Epoch 38/100\n",
            "1253/1253 [==============================] - 9s 7ms/step - loss: 4.0839e-04\n",
            "Epoch 39/100\n",
            "1253/1253 [==============================] - 8s 6ms/step - loss: 4.1987e-04\n",
            "Epoch 40/100\n",
            "1253/1253 [==============================] - 9s 7ms/step - loss: 4.1985e-04\n",
            "Epoch 41/100\n",
            "1253/1253 [==============================] - 13s 10ms/step - loss: 4.0559e-04\n",
            "Epoch 42/100\n",
            "1253/1253 [==============================] - 11s 9ms/step - loss: 4.2301e-04\n",
            "Epoch 43/100\n",
            "1253/1253 [==============================] - 12s 10ms/step - loss: 4.3559e-04\n",
            "Epoch 44/100\n",
            "1253/1253 [==============================] - 14s 11ms/step - loss: 4.1460e-04\n",
            "Epoch 45/100\n",
            "1253/1253 [==============================] - 12s 10ms/step - loss: 3.9444e-04\n",
            "Epoch 46/100\n",
            "1253/1253 [==============================] - 8s 6ms/step - loss: 4.1814e-04\n",
            "Epoch 47/100\n",
            "1253/1253 [==============================] - 9s 7ms/step - loss: 3.9963e-04\n",
            "Epoch 48/100\n",
            "1253/1253 [==============================] - 10s 8ms/step - loss: 3.6252e-04\n",
            "Epoch 49/100\n",
            "1253/1253 [==============================] - 9s 7ms/step - loss: 3.9039e-04\n",
            "Epoch 50/100\n",
            "1253/1253 [==============================] - 7s 6ms/step - loss: 4.0375e-04\n",
            "Epoch 51/100\n",
            "1253/1253 [==============================] - 8s 6ms/step - loss: 7.0571e-04\n",
            "Epoch 52/100\n",
            "1253/1253 [==============================] - 8s 7ms/step - loss: 4.2448e-04\n",
            "Epoch 53/100\n",
            "1253/1253 [==============================] - 6s 5ms/step - loss: 3.9862e-04\n",
            "Epoch 54/100\n",
            "1253/1253 [==============================] - 6s 5ms/step - loss: 3.7705e-04\n",
            "Epoch 55/100\n",
            "1253/1253 [==============================] - 6s 5ms/step - loss: 4.0294e-04\n",
            "Epoch 56/100\n",
            "1253/1253 [==============================] - 6s 5ms/step - loss: 3.6744e-04\n",
            "Epoch 57/100\n",
            "1253/1253 [==============================] - 7s 6ms/step - loss: 3.8272e-04\n",
            "Epoch 58/100\n",
            "1253/1253 [==============================] - 8s 6ms/step - loss: 3.6180e-04\n",
            "Epoch 59/100\n",
            "1253/1253 [==============================] - 7s 5ms/step - loss: 3.7408e-04\n",
            "Epoch 60/100\n",
            "1253/1253 [==============================] - 8s 7ms/step - loss: 3.7544e-04\n",
            "Epoch 61/100\n",
            "1253/1253 [==============================] - 6s 5ms/step - loss: 3.7760e-04\n",
            "Epoch 62/100\n",
            "1253/1253 [==============================] - 7s 6ms/step - loss: 4.0888e-04\n",
            "Epoch 63/100\n",
            "1253/1253 [==============================] - 6s 5ms/step - loss: 3.7749e-04\n",
            "Epoch 64/100\n",
            "1253/1253 [==============================] - 7s 6ms/step - loss: 3.7043e-04\n",
            "Epoch 65/100\n",
            "1253/1253 [==============================] - 10s 8ms/step - loss: 3.8639e-04\n",
            "Epoch 66/100\n",
            "1253/1253 [==============================] - 8s 7ms/step - loss: 3.6496e-04\n",
            "Epoch 67/100\n",
            "1253/1253 [==============================] - 9s 7ms/step - loss: 3.4899e-04\n",
            "Epoch 68/100\n",
            "1253/1253 [==============================] - 8s 6ms/step - loss: 3.6347e-04\n",
            "Epoch 69/100\n",
            "1253/1253 [==============================] - 6s 5ms/step - loss: 3.8283e-04\n",
            "Epoch 70/100\n",
            "1253/1253 [==============================] - 9s 7ms/step - loss: 3.8084e-04\n",
            "Epoch 71/100\n",
            "1253/1253 [==============================] - 9s 7ms/step - loss: 3.4389e-04\n",
            "Epoch 72/100\n",
            "1253/1253 [==============================] - 6s 5ms/step - loss: 3.5728e-04\n",
            "Epoch 73/100\n",
            "1253/1253 [==============================] - 6s 4ms/step - loss: 3.6606e-04\n",
            "Epoch 74/100\n",
            "1253/1253 [==============================] - 5s 4ms/step - loss: 3.9614e-04\n",
            "Epoch 75/100\n",
            "1253/1253 [==============================] - 6s 5ms/step - loss: 3.5741e-04\n",
            "Epoch 76/100\n",
            "1253/1253 [==============================] - 7s 6ms/step - loss: 3.8355e-04\n",
            "Epoch 77/100\n",
            "1253/1253 [==============================] - 10s 8ms/step - loss: 3.5207e-04\n",
            "Epoch 78/100\n",
            "1253/1253 [==============================] - 9s 7ms/step - loss: 3.3068e-04\n",
            "Epoch 79/100\n",
            "1253/1253 [==============================] - 7s 6ms/step - loss: 4.0404e-04\n",
            "Epoch 80/100\n",
            "1253/1253 [==============================] - 7s 6ms/step - loss: 3.7824e-04\n",
            "Epoch 81/100\n",
            "1253/1253 [==============================] - 9s 7ms/step - loss: 3.4968e-04\n",
            "Epoch 82/100\n",
            "1253/1253 [==============================] - 7s 5ms/step - loss: 3.7097e-04\n",
            "Epoch 83/100\n",
            "1253/1253 [==============================] - 7s 6ms/step - loss: 3.7004e-04\n",
            "Epoch 84/100\n",
            "1253/1253 [==============================] - 6s 4ms/step - loss: 3.6744e-04\n",
            "Epoch 85/100\n",
            "1253/1253 [==============================] - 7s 5ms/step - loss: 3.3419e-04\n",
            "Epoch 86/100\n",
            "1253/1253 [==============================] - 7s 6ms/step - loss: 3.3562e-04\n",
            "Epoch 87/100\n",
            "1253/1253 [==============================] - 6s 5ms/step - loss: 3.6837e-04\n",
            "Epoch 88/100\n",
            "1253/1253 [==============================] - 6s 4ms/step - loss: 3.4153e-04\n",
            "Epoch 89/100\n",
            "1253/1253 [==============================] - 5s 4ms/step - loss: 3.7792e-04\n",
            "Epoch 90/100\n",
            "1253/1253 [==============================] - 6s 5ms/step - loss: 3.6312e-04\n",
            "Epoch 91/100\n",
            "1253/1253 [==============================] - 6s 5ms/step - loss: 3.3696e-04\n",
            "Epoch 92/100\n"
          ]
        },
        {
          "name": "stdout",
          "output_type": "stream",
          "text": [
            "1253/1253 [==============================] - 6s 5ms/step - loss: 3.6304e-04\n",
            "Epoch 93/100\n",
            "1253/1253 [==============================] - 8s 7ms/step - loss: 3.7188e-04\n",
            "Epoch 94/100\n",
            "1253/1253 [==============================] - 10s 8ms/step - loss: 3.2493e-04\n",
            "Epoch 95/100\n",
            "1253/1253 [==============================] - 8s 7ms/step - loss: 3.5997e-04\n",
            "Epoch 96/100\n",
            "1253/1253 [==============================] - 7s 6ms/step - loss: 3.8112e-04\n",
            "Epoch 97/100\n",
            "1253/1253 [==============================] - 7s 5ms/step - loss: 3.4359e-04\n",
            "Epoch 98/100\n",
            "1253/1253 [==============================] - 6s 5ms/step - loss: 3.4908e-04\n",
            "Epoch 99/100\n",
            "1253/1253 [==============================] - 6s 4ms/step - loss: 3.5875e-04\n",
            "Epoch 100/100\n",
            "1253/1253 [==============================] - 6s 5ms/step - loss: 3.5370e-04\n"
          ]
        },
        {
          "data": {
            "text/plain": [
              "<keras.callbacks.History at 0x7fcd6b81f490>"
            ]
          },
          "execution_count": 7,
          "metadata": {},
          "output_type": "execute_result"
        }
      ],
      "source": [
        "# Create RNN Model\n",
        "from keras.models import Sequential\n",
        "from keras.layers import Dense, SimpleRNN, Dropout\n",
        "\n",
        "regressor = Sequential()\n",
        "\n",
        "# adding the first RNN layer and some Dropout regularisation \n",
        "regressor.add(SimpleRNN(units = 100, activation=\"relu\", return_sequences=True ,input_shape = (x_train.shape[1], 1)))\n",
        "\n",
        "# adding the second RNN layer and some Dropout regularisation \n",
        "regressor.add(SimpleRNN(units = 100, activation=\"relu\", return_sequences=True))\n",
        "\n",
        "# adding the third RNN layer and some Dropout regularisation \n",
        "regressor.add(SimpleRNN(units = 100 , activation=\"relu\", return_sequences=True))\n",
        "\n",
        "# adding the fourth RNN layer and some Dropout regularisation \n",
        "regressor.add(SimpleRNN(units = 100))\n",
        "\n",
        "# Adding thw output Layer\n",
        "regressor.add(Dense(units=1))\n",
        "\n",
        "# Compiling the RNN\n",
        "regressor.compile(optimizer= \"adam\", loss = \"mean_squared_error\")\n",
        "\n",
        "# Fitting the RNN to the Training set\n",
        "regressor.fit(x_train, y_train, epochs = 100, batch_size = 1)"
      ]
    },
    {
      "cell_type": "code",
      "execution_count": null,
      "id": "1f4d7139",
      "metadata": {
        "colab": {
          "base_uri": "https://localhost:8080/",
          "height": 206
        },
        "execution": {
          "iopub.execute_input": "2023-04-14T07:35:30.044899Z",
          "iopub.status.busy": "2023-04-14T07:35:30.044154Z",
          "iopub.status.idle": "2023-04-14T07:35:30.073314Z",
          "shell.execute_reply": "2023-04-14T07:35:30.072456Z"
        },
        "id": "1f4d7139",
        "outputId": "325683ba-bc0d-4329-b390-71302a3bee29",
        "papermill": {
          "duration": 0.747458,
          "end_time": "2023-04-14T07:35:30.075758",
          "exception": false,
          "start_time": "2023-04-14T07:35:29.328300",
          "status": "completed"
        },
        "tags": []
      },
      "outputs": [
        {
          "data": {
            "text/html": [
              "<div>\n",
              "<style scoped>\n",
              "    .dataframe tbody tr th:only-of-type {\n",
              "        vertical-align: middle;\n",
              "    }\n",
              "\n",
              "    .dataframe tbody tr th {\n",
              "        vertical-align: top;\n",
              "    }\n",
              "\n",
              "    .dataframe thead th {\n",
              "        text-align: right;\n",
              "    }\n",
              "</style>\n",
              "<table border=\"1\" class=\"dataframe\">\n",
              "  <thead>\n",
              "    <tr style=\"text-align: right;\">\n",
              "      <th></th>\n",
              "      <th>Date</th>\n",
              "      <th>Open</th>\n",
              "      <th>High</th>\n",
              "      <th>Low</th>\n",
              "      <th>Close</th>\n",
              "      <th>Volume</th>\n",
              "    </tr>\n",
              "  </thead>\n",
              "  <tbody>\n",
              "    <tr>\n",
              "      <th>0</th>\n",
              "      <td>1/3/2017</td>\n",
              "      <td>778.81</td>\n",
              "      <td>789.63</td>\n",
              "      <td>775.80</td>\n",
              "      <td>786.14</td>\n",
              "      <td>1,657,300</td>\n",
              "    </tr>\n",
              "    <tr>\n",
              "      <th>1</th>\n",
              "      <td>1/4/2017</td>\n",
              "      <td>788.36</td>\n",
              "      <td>791.34</td>\n",
              "      <td>783.16</td>\n",
              "      <td>786.90</td>\n",
              "      <td>1,073,000</td>\n",
              "    </tr>\n",
              "    <tr>\n",
              "      <th>2</th>\n",
              "      <td>1/5/2017</td>\n",
              "      <td>786.08</td>\n",
              "      <td>794.48</td>\n",
              "      <td>785.02</td>\n",
              "      <td>794.02</td>\n",
              "      <td>1,335,200</td>\n",
              "    </tr>\n",
              "    <tr>\n",
              "      <th>3</th>\n",
              "      <td>1/6/2017</td>\n",
              "      <td>795.26</td>\n",
              "      <td>807.90</td>\n",
              "      <td>792.20</td>\n",
              "      <td>806.15</td>\n",
              "      <td>1,640,200</td>\n",
              "    </tr>\n",
              "    <tr>\n",
              "      <th>4</th>\n",
              "      <td>1/9/2017</td>\n",
              "      <td>806.40</td>\n",
              "      <td>809.97</td>\n",
              "      <td>802.83</td>\n",
              "      <td>806.65</td>\n",
              "      <td>1,272,400</td>\n",
              "    </tr>\n",
              "  </tbody>\n",
              "</table>\n",
              "</div>"
            ],
            "text/plain": [
              "       Date    Open    High     Low   Close     Volume\n",
              "0  1/3/2017  778.81  789.63  775.80  786.14  1,657,300\n",
              "1  1/4/2017  788.36  791.34  783.16  786.90  1,073,000\n",
              "2  1/5/2017  786.08  794.48  785.02  794.02  1,335,200\n",
              "3  1/6/2017  795.26  807.90  792.20  806.15  1,640,200\n",
              "4  1/9/2017  806.40  809.97  802.83  806.65  1,272,400"
            ]
          },
          "execution_count": 13,
          "metadata": {},
          "output_type": "execute_result"
        }
      ],
      "source": [
        "# Getting the real stock price of 2017\n",
        "\n",
        "data_test = pd.read_csv(\"Google_Stock_Price_Test.csv\")\n",
        "data_test.head()"
      ]
    },
    {
      "cell_type": "code",
      "execution_count": null,
      "id": "613cbdb3",
      "metadata": {
        "colab": {
          "base_uri": "https://localhost:8080/"
        },
        "execution": {
          "iopub.execute_input": "2023-04-14T07:35:31.525841Z",
          "iopub.status.busy": "2023-04-14T07:35:31.525068Z",
          "iopub.status.idle": "2023-04-14T07:35:31.532528Z",
          "shell.execute_reply": "2023-04-14T07:35:31.531366Z"
        },
        "id": "613cbdb3",
        "outputId": "3eb081af-28a2-4b48-fa22-34f52b96ebbf",
        "papermill": {
          "duration": 0.707819,
          "end_time": "2023-04-14T07:35:31.536285",
          "exception": false,
          "start_time": "2023-04-14T07:35:30.828466",
          "status": "completed"
        },
        "tags": []
      },
      "outputs": [
        {
          "name": "stdout",
          "output_type": "stream",
          "text": [
            "[[778.81]\n",
            " [788.36]\n",
            " [786.08]\n",
            " [795.26]\n",
            " [806.4 ]\n",
            " [807.86]\n",
            " [805.  ]\n",
            " [807.14]\n",
            " [807.48]\n",
            " [807.08]\n",
            " [805.81]\n",
            " [805.12]\n",
            " [806.91]\n",
            " [807.25]\n",
            " [822.3 ]\n",
            " [829.62]\n",
            " [837.81]\n",
            " [834.71]\n",
            " [814.66]\n",
            " [796.86]]\n"
          ]
        }
      ],
      "source": [
        "real_stock_price = data_test.loc[:, [\"Open\"]].values\n",
        "print(real_stock_price)"
      ]
    },
    {
      "cell_type": "code",
      "execution_count": null,
      "id": "e0c37472",
      "metadata": {
        "colab": {
          "base_uri": "https://localhost:8080/"
        },
        "execution": {
          "iopub.execute_input": "2023-04-14T07:35:32.992713Z",
          "iopub.status.busy": "2023-04-14T07:35:32.992143Z",
          "iopub.status.idle": "2023-04-14T07:35:33.005876Z",
          "shell.execute_reply": "2023-04-14T07:35:33.004880Z"
        },
        "id": "e0c37472",
        "outputId": "f4723e98-53dd-42ae-cb11-5c96d4892080",
        "papermill": {
          "duration": 0.716475,
          "end_time": "2023-04-14T07:35:33.008328",
          "exception": false,
          "start_time": "2023-04-14T07:35:32.291853",
          "status": "completed"
        },
        "tags": []
      },
      "outputs": [
        {
          "data": {
            "text/plain": [
              "array([[0.95204256],\n",
              "       [0.95163331],\n",
              "       [0.95725128],\n",
              "       [0.93796041],\n",
              "       [0.93688146],\n",
              "       [0.92955205],\n",
              "       [0.94731751],\n",
              "       [0.94307612],\n",
              "       [0.96015329],\n",
              "       [0.98087655],\n",
              "       [0.98359253],\n",
              "       [0.97827219],\n",
              "       [0.98225314],\n",
              "       [0.98288563],\n",
              "       [0.98214153],\n",
              "       [0.979779  ],\n",
              "       [0.97849542],\n",
              "       [0.98182528],\n",
              "       [0.98245777],\n",
              "       [1.01045465],\n",
              "       [1.02407173],\n",
              "       [1.03930724],\n",
              "       [1.03354044],\n",
              "       [0.99624228],\n",
              "       [0.9631297 ]])"
            ]
          },
          "execution_count": 15,
          "metadata": {},
          "output_type": "execute_result"
        }
      ],
      "source": [
        "# Getting the predicted stock price of 2017\n",
        "data_total = pd.concat((data_train[\"Open\"], data_test[\"Open\"]), axis = 0)\n",
        "inputs = data_total[len(data_total) - len(data_test) - timesteps:].values.reshape(-1,1)\n",
        "inputs = scaler.transform(inputs) # min max scaler\n",
        "inputs"
      ]
    },
    {
      "cell_type": "code",
      "execution_count": null,
      "id": "1b63c8a2",
      "metadata": {
        "colab": {
          "base_uri": "https://localhost:8080/"
        },
        "execution": {
          "iopub.execute_input": "2023-04-14T07:35:34.502650Z",
          "iopub.status.busy": "2023-04-14T07:35:34.501493Z",
          "iopub.status.idle": "2023-04-14T07:35:35.424036Z",
          "shell.execute_reply": "2023-04-14T07:35:35.422884Z"
        },
        "id": "1b63c8a2",
        "outputId": "21621e71-6bcb-44b6-9fd7-b5ba9b4579f6",
        "papermill": {
          "duration": 1.654705,
          "end_time": "2023-04-14T07:35:35.426478",
          "exception": false,
          "start_time": "2023-04-14T07:35:33.771773",
          "status": "completed"
        },
        "tags": []
      },
      "outputs": [
        {
          "name": "stdout",
          "output_type": "stream",
          "text": [
            "1/1 [==============================] - 0s 30ms/step\n"
          ]
        },
        {
          "data": {
            "image/png": "[encoded data removed]",
            "text/plain": [
              "<Figure size 432x288 with 1 Axes>"
            ]
          },
          "metadata": {
            "needs_background": "light"
          },
          "output_type": "display_data"
        }
      ],
      "source": [
        "x_test = []\n",
        "for i in range(timesteps, 70):\n",
        "    if len(inputs[i-timesteps:i, 0]) == timesteps:\n",
        "        x_test.append(inputs[i-timesteps:i, 0])\n",
        "\n",
        "x_test = np.array(x_test)\n",
        "x_test = np.reshape(x_test, (x_test.shape[0], x_test.shape[1], 1))\n",
        "predicte_stock_price = regressor.predict(x_test)\n",
        "predicte_stock_price = scaler.inverse_transform(predicte_stock_price)\n",
        "\n",
        "# visualising the results\n",
        "plt.plot(real_stock_price, color = \"red\", label = \"Real Google Stock Price\")\n",
        "plt.plot(predicte_stock_price, color = \"blue\", label = \"Predicted Google Stock Price\")\n",
        "plt.title(\"Google Stock Price prediction\")\n",
        "plt.xlabel(\"Time\")\n",
        "plt.ylabel(\"Google Stock Price\")\n",
        "plt.legend()\n",
        "plt.show()"
      ]
    },
    {
      "cell_type": "code",
      "execution_count": null,
      "id": "8497bb98",
      "metadata": {
        "colab": {
          "base_uri": "https://localhost:8080/"
        },
        "execution": {
          "iopub.execute_input": "2023-04-14T07:35:36.863202Z",
          "iopub.status.busy": "2023-04-14T07:35:36.861898Z",
          "iopub.status.idle": "2023-04-14T07:35:36.869521Z",
          "shell.execute_reply": "2023-04-14T07:35:36.868089Z"
        },
        "id": "8497bb98",
        "outputId": "1aa7aed1-a5fe-467c-f0ea-64cbfe68ff95",
        "papermill": {
          "duration": 0.69753,
          "end_time": "2023-04-14T07:35:36.871783",
          "exception": false,
          "start_time": "2023-04-14T07:35:36.174253",
          "status": "completed"
        },
        "tags": []
      },
      "outputs": [
        {
          "name": "stdout",
          "output_type": "stream",
          "text": [
            "[[777.4594 ]\n",
            " [774.1209 ]\n",
            " [782.1237 ]\n",
            " [779.91174]\n",
            " [787.2772 ]\n",
            " [795.4675 ]\n",
            " [796.9016 ]\n",
            " [794.6185 ]\n",
            " [796.3575 ]\n",
            " [796.9082 ]\n",
            " [796.7103 ]\n",
            " [795.64575]\n",
            " [795.19244]\n",
            " [796.5408 ]\n",
            " [796.79016]\n",
            " [808.1483 ]\n",
            " [813.47034]\n",
            " [819.42145]\n",
            " [817.05255]\n",
            " [802.64355]\n",
            " [789.3163 ]]\n"
          ]
        }
      ],
      "source": [
        "print(predicte_stock_price)"
      ]
    },
    {
      "cell_type": "code",
      "execution_count": null,
      "id": "1517cb09",
      "metadata": {
        "id": "1517cb09"
      },
      "outputs": [],
      "source": []
    },
    {
      "cell_type": "code",
      "execution_count": null,
      "id": "d57b0acf",
      "metadata": {
        "id": "d57b0acf"
      },
      "outputs": [],
      "source": []
    }
  ],
  "metadata": {
    "colab": {
      "provenance": []
    },
    "kernelspec": {
      "display_name": "Python 3 (ipykernel)",
      "language": "python",
      "name": "python3"
    },
    "language_info": {
      "codemirror_mode": {
        "name": "ipython",
        "version": 3
      },
      "file_extension": ".py",
      "mimetype": "text/x-python",
      "name": "python",
      "nbconvert_exporter": "python",
      "pygments_lexer": "ipython3",
      "version": "3.9.7"
    },
    "papermill": {
      "default_parameters": {},
      "duration": 605.052103,
      "end_time": "2023-04-14T07:35:41.784763",
      "environment_variables": {},
      "exception": null,
      "input_path": "__notebook__.ipynb",
      "output_path": "__notebook__.ipynb",
      "parameters": {},
      "start_time": "2023-04-14T07:25:36.732660",
      "version": "2.4.0"
    }
  },
  "nbformat": 4,
  "nbformat_minor": 5
}